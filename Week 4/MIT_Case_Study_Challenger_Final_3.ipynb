{
  "cells": [
    {
      "cell_type": "markdown",
      "metadata": {
        "id": "ofxoV-DftU2k"
      },
      "source": [
        "# **Case Study - Challenger Launch**"
      ]
    },
    {
      "cell_type": "markdown",
      "metadata": {
        "id": "jwL0VXFDtU2o"
      },
      "source": [
        "### **Importing the necessary libraries**"
      ]
    },
    {
      "cell_type": "code",
      "execution_count": 1,
      "metadata": {
        "ExecuteTime": {
          "end_time": "2021-06-11T15:59:37.353965Z",
          "start_time": "2021-06-11T15:59:35.081179Z"
        },
        "id": "NDTEDVUQtU2p"
      },
      "outputs": [],
      "source": [
        "# Basic libraries of python for numeric and dataframe computations\n",
        "import pandas as pd\n",
        "import numpy as np"
      ]
    },
    {
      "cell_type": "markdown",
      "metadata": {
        "id": "oJ8rJKO4v4XX"
      },
      "source": [
        "### **Loading the data**"
      ]
    },
    {
      "cell_type": "code",
      "execution_count": 2,
      "metadata": {
        "ExecuteTime": {
          "end_time": "2021-06-11T15:59:37.369072Z",
          "start_time": "2021-06-11T15:59:37.355981Z"
        },
        "id": "yGnS-HpttU2q"
      },
      "outputs": [],
      "source": [
        "data=pd.read_csv('challenger-data.csv')"
      ]
    },
    {
      "cell_type": "markdown",
      "metadata": {
        "id": "V7QVEfQsv_Tf"
      },
      "source": [
        "**Now let us see the top five records of the rating data.**"
      ]
    },
    {
      "cell_type": "code",
      "execution_count": 3,
      "metadata": {
        "ExecuteTime": {
          "end_time": "2021-06-11T15:59:37.400371Z",
          "start_time": "2021-06-11T15:59:37.371073Z"
        },
        "id": "sAXArwyOtU2r",
        "outputId": "5bd69257-1552-4546-e0df-ff190a9be757"
      },
      "outputs": [
        {
          "data": {
            "text/html": [
              "<div>\n",
              "<style scoped>\n",
              "    .dataframe tbody tr th:only-of-type {\n",
              "        vertical-align: middle;\n",
              "    }\n",
              "\n",
              "    .dataframe tbody tr th {\n",
              "        vertical-align: top;\n",
              "    }\n",
              "\n",
              "    .dataframe thead th {\n",
              "        text-align: right;\n",
              "    }\n",
              "</style>\n",
              "<table border=\"1\" class=\"dataframe\">\n",
              "  <thead>\n",
              "    <tr style=\"text-align: right;\">\n",
              "      <th></th>\n",
              "      <th>Observation</th>\n",
              "      <th>Y</th>\n",
              "      <th>X</th>\n",
              "    </tr>\n",
              "  </thead>\n",
              "  <tbody>\n",
              "    <tr>\n",
              "      <th>0</th>\n",
              "      <td>1</td>\n",
              "      <td>1</td>\n",
              "      <td>53</td>\n",
              "    </tr>\n",
              "    <tr>\n",
              "      <th>1</th>\n",
              "      <td>2</td>\n",
              "      <td>1</td>\n",
              "      <td>53</td>\n",
              "    </tr>\n",
              "    <tr>\n",
              "      <th>2</th>\n",
              "      <td>3</td>\n",
              "      <td>1</td>\n",
              "      <td>53</td>\n",
              "    </tr>\n",
              "    <tr>\n",
              "      <th>3</th>\n",
              "      <td>4</td>\n",
              "      <td>0</td>\n",
              "      <td>53</td>\n",
              "    </tr>\n",
              "    <tr>\n",
              "      <th>4</th>\n",
              "      <td>5</td>\n",
              "      <td>0</td>\n",
              "      <td>53</td>\n",
              "    </tr>\n",
              "  </tbody>\n",
              "</table>\n",
              "</div>"
            ],
            "text/plain": [
              "   Observation  Y   X\n",
              "0            1  1  53\n",
              "1            2  1  53\n",
              "2            3  1  53\n",
              "3            4  0  53\n",
              "4            5  0  53"
            ]
          },
          "execution_count": 3,
          "metadata": {},
          "output_type": "execute_result"
        }
      ],
      "source": [
        "data.head()"
      ]
    },
    {
      "cell_type": "markdown",
      "metadata": {
        "id": "ROn80KEVtU2s"
      },
      "source": [
        "- X represent the temperature while the time of launch of the Rocket. \n",
        "- Y represents the whether an o-rings failure happened or not at the temperature."
      ]
    },
    {
      "cell_type": "markdown",
      "metadata": {
        "id": "EVP96ujuwDos"
      },
      "source": [
        "Let's check the **info** of the data."
      ]
    },
    {
      "cell_type": "code",
      "execution_count": 4,
      "metadata": {
        "id": "tzMIUoW-tU2t",
        "outputId": "3cf0ff84-ad8a-454c-f5a3-618a8cc29800"
      },
      "outputs": [
        {
          "name": "stdout",
          "output_type": "stream",
          "text": [
            "<class 'pandas.core.frame.DataFrame'>\n",
            "RangeIndex: 120 entries, 0 to 119\n",
            "Data columns (total 3 columns):\n",
            " #   Column       Non-Null Count  Dtype\n",
            "---  ------       --------------  -----\n",
            " 0   Observation  120 non-null    int64\n",
            " 1   Y            120 non-null    int64\n",
            " 2   X            120 non-null    int64\n",
            "dtypes: int64(3)\n",
            "memory usage: 2.9 KB\n"
          ]
        }
      ],
      "source": [
        "data.info()"
      ]
    },
    {
      "cell_type": "markdown",
      "metadata": {
        "id": "GNrUDuGgtU2t"
      },
      "source": [
        "- The data is comprised of 120 non-null values."
      ]
    },
    {
      "cell_type": "code",
      "execution_count": 5,
      "metadata": {
        "ExecuteTime": {
          "end_time": "2021-06-11T15:59:37.430929Z",
          "start_time": "2021-06-11T15:59:37.401959Z"
        },
        "id": "Usb1-XP4tU2t",
        "outputId": "b9310365-c268-411d-945e-011189b885b4"
      },
      "outputs": [
        {
          "data": {
            "text/html": [
              "<div>\n",
              "<style scoped>\n",
              "    .dataframe tbody tr th:only-of-type {\n",
              "        vertical-align: middle;\n",
              "    }\n",
              "\n",
              "    .dataframe tbody tr th {\n",
              "        vertical-align: top;\n",
              "    }\n",
              "\n",
              "    .dataframe thead th {\n",
              "        text-align: right;\n",
              "    }\n",
              "</style>\n",
              "<table border=\"1\" class=\"dataframe\">\n",
              "  <thead>\n",
              "    <tr style=\"text-align: right;\">\n",
              "      <th></th>\n",
              "      <th>Observation</th>\n",
              "      <th>Y</th>\n",
              "      <th>X</th>\n",
              "    </tr>\n",
              "  </thead>\n",
              "  <tbody>\n",
              "    <tr>\n",
              "      <th>count</th>\n",
              "      <td>120.000000</td>\n",
              "      <td>120.000000</td>\n",
              "      <td>120.000000</td>\n",
              "    </tr>\n",
              "    <tr>\n",
              "      <th>mean</th>\n",
              "      <td>60.500000</td>\n",
              "      <td>0.083333</td>\n",
              "      <td>70.000000</td>\n",
              "    </tr>\n",
              "    <tr>\n",
              "      <th>std</th>\n",
              "      <td>34.785054</td>\n",
              "      <td>0.277544</td>\n",
              "      <td>7.100716</td>\n",
              "    </tr>\n",
              "    <tr>\n",
              "      <th>min</th>\n",
              "      <td>1.000000</td>\n",
              "      <td>0.000000</td>\n",
              "      <td>53.000000</td>\n",
              "    </tr>\n",
              "    <tr>\n",
              "      <th>25%</th>\n",
              "      <td>30.750000</td>\n",
              "      <td>0.000000</td>\n",
              "      <td>67.000000</td>\n",
              "    </tr>\n",
              "    <tr>\n",
              "      <th>50%</th>\n",
              "      <td>60.500000</td>\n",
              "      <td>0.000000</td>\n",
              "      <td>70.000000</td>\n",
              "    </tr>\n",
              "    <tr>\n",
              "      <th>75%</th>\n",
              "      <td>90.250000</td>\n",
              "      <td>0.000000</td>\n",
              "      <td>75.250000</td>\n",
              "    </tr>\n",
              "    <tr>\n",
              "      <th>max</th>\n",
              "      <td>120.000000</td>\n",
              "      <td>1.000000</td>\n",
              "      <td>81.000000</td>\n",
              "    </tr>\n",
              "  </tbody>\n",
              "</table>\n",
              "</div>"
            ],
            "text/plain": [
              "       Observation           Y           X\n",
              "count   120.000000  120.000000  120.000000\n",
              "mean     60.500000    0.083333   70.000000\n",
              "std      34.785054    0.277544    7.100716\n",
              "min       1.000000    0.000000   53.000000\n",
              "25%      30.750000    0.000000   67.000000\n",
              "50%      60.500000    0.000000   70.000000\n",
              "75%      90.250000    0.000000   75.250000\n",
              "max     120.000000    1.000000   81.000000"
            ]
          },
          "execution_count": 5,
          "metadata": {},
          "output_type": "execute_result"
        }
      ],
      "source": [
        "data.describe()"
      ]
    },
    {
      "cell_type": "markdown",
      "metadata": {
        "id": "yNbHA2AItU2u"
      },
      "source": [
        "- The average temperature at which launch usually happens is 70 fahrenheit."
      ]
    },
    {
      "cell_type": "markdown",
      "metadata": {
        "id": "8eYpQSkstU2u"
      },
      "source": [
        "### **Visualizing\tthe\tData**"
      ]
    },
    {
      "cell_type": "code",
      "execution_count": 10,
      "metadata": {
        "ExecuteTime": {
          "end_time": "2021-06-11T15:59:38.746752Z",
          "start_time": "2021-06-11T15:59:37.672757Z"
        },
        "id": "Wuu0NYQHtU2v",
        "outputId": "f542beed-c4cb-449c-94ec-33ac369b7990"
      },
      "outputs": [
        {
          "data": {
            "image/png": "[encoded data removed]",
            "text/plain": [
              "<Figure size 640x480 with 1 Axes>"
            ]
          },
          "metadata": {},
          "output_type": "display_data"
        }
      ],
      "source": [
        "# We will be using the Matplotlib library for plotting.\n",
        "\n",
        "# subsetting the data\n",
        "failures = data.loc[(data.Y == 1)]\n",
        "no_failures\t= data.loc[(data.Y == 0)]\n",
        "\n",
        "# frequencies\n",
        "failures_freq = failures.X.value_counts() #failures.groupby('X')\n",
        "no_failures_freq = no_failures.X.value_counts()\n",
        "\n",
        "# plotting\n",
        "import matplotlib as mpl\n",
        "from matplotlib\timport pyplot as plt\n",
        "plt.scatter(failures_freq.index, failures_freq, c='red', s=40)\n",
        "plt.scatter(no_failures_freq.index, np.zeros(len(no_failures_freq)), c='blue', s=40)\n",
        "plt.xlabel('X: Temperature')\n",
        "plt.ylabel('Number of Failures')\n",
        "plt.legend(['failures', 'No failures'])\n",
        "plt.show()"
      ]
    },
    {
      "cell_type": "code",
      "execution_count": 16,
      "metadata": {},
      "outputs": [
        {
          "data": {
            "text/plain": [
              "X\n",
              "53    3\n",
              "70    2\n",
              "75    2\n",
              "57    1\n",
              "58    1\n",
              "63    1\n",
              "Name: count, dtype: int64"
            ]
          },
          "execution_count": 16,
          "metadata": {},
          "output_type": "execute_result"
        }
      ],
      "source": [
        "failures.X.value_counts()"
      ]
    },
    {
      "cell_type": "markdown",
      "metadata": {
        "id": "94Yyww1ItU2v"
      },
      "source": [
        "- At higher temperatures there are very less chance for o-rings failures. \n",
        "- There is a chance where there is no o-ring failure below 55 temperature and other has 3 o-rings failures which creates a sense of doubt whether to go for it or not. "
      ]
    },
    {
      "cell_type": "markdown",
      "metadata": {
        "id": "iVdxXR7AtU2v"
      },
      "source": [
        "### **Logistic Regression**\n"
      ]
    },
    {
      "cell_type": "code",
      "execution_count": null,
      "metadata": {
        "ExecuteTime": {
          "end_time": "2021-06-11T16:01:42.054003Z",
          "start_time": "2021-06-11T16:01:42.033888Z"
        },
        "id": "TknOl9nCtU2v",
        "outputId": "deb87176-f69d-4700-a672-9cc750542c70"
      },
      "outputs": [
        {
          "name": "stdout",
          "output_type": "stream",
          "text": [
            "Optimization terminated successfully.\n",
            "         Current function value: 0.242411\n",
            "         Iterations 7\n",
            "                           Logit Regression Results                           \n",
            "==============================================================================\n",
            "Dep. Variable:                      Y   No. Observations:                  120\n",
            "Model:                          Logit   Df Residuals:                      118\n",
            "Method:                           MLE   Df Model:                            1\n",
            "Date:                Tue, 27 Jul 2021   Pseudo R-squ.:                  0.1549\n",
            "Time:                        20:25:44   Log-Likelihood:                -29.089\n",
            "converged:                       True   LL-Null:                       -34.420\n",
            "Covariance Type:            nonrobust   LLR p-value:                  0.001094\n",
            "==============================================================================\n",
            "                 coef    std err          z      P>|z|      [0.025      0.975]\n",
            "------------------------------------------------------------------------------\n",
            "Intercept      7.4049      3.041      2.435      0.015       1.445      13.365\n",
            "X             -0.1466      0.047     -3.104      0.002      -0.239      -0.054\n",
            "==============================================================================\n"
          ]
        }
      ],
      "source": [
        "# You will need to have the following libraries installed before proceeding:\n",
        "import statsmodels.formula.api as SM\n",
        "\n",
        "# Build the model\n",
        "model = SM.logit(formula='Y~X',data=data)\n",
        "result = model.fit()\n",
        "\n",
        "# Summarize the model\n",
        "print (result.summary())"
      ]
    },
    {
      "cell_type": "markdown",
      "metadata": {
        "id": "W5aeTfVWtU2w"
      },
      "source": [
        "- We now have the model and the summaries should provide the coefficient, intercept, standard errors and p-values. \n",
        "- The Negative coefficient for X determines if the the temperate lowers by 1 there is ~15% chance for o-ring failure.\n",
        "- p have for both intercept and X signifies that they are statistically significant and temperature does effect the change of an o-ring failure."
      ]
    }
  ],
  "metadata": {
    "colab": {
      "collapsed_sections": [],
      "name": "MIT Case Study Challenger Final-3.ipynb",
      "provenance": []
    },
    "kernelspec": {
      "display_name": "Python 3",
      "language": "python",
      "name": "python3"
    },
    "language_info": {
      "codemirror_mode": {
        "name": "ipython",
        "version": 3
      },
      "file_extension": ".py",
      "mimetype": "text/x-python",
      "name": "python",
      "nbconvert_exporter": "python",
      "pygments_lexer": "ipython3",
      "version": "3.8.8"
    },
    "toc": {
      "base_numbering": 1,
      "nav_menu": {},
      "number_sections": true,
      "sideBar": true,
      "skip_h1_title": false,
      "title_cell": "Table of Contents",
      "title_sidebar": "Contents",
      "toc_cell": false,
      "toc_position": {},
      "toc_section_display": true,
      "toc_window_display": false
    }
  },
  "nbformat": 4,
  "nbformat_minor": 0
}
