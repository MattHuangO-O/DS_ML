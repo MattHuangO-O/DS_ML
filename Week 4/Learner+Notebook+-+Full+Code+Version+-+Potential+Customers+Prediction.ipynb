{
 "cells": [
  {
   "cell_type": "markdown",
   "id": "AT5OogJVFbwu",
   "metadata": {
    "id": "AT5OogJVFbwu"
   },
   "source": [
    "# ExtraaLearn Project\n",
    "\n",
    "## Context\n",
    "\n",
    "The EdTech industry has been surging in the past decade immensely, and according to a forecast, the Online Education market would be worth $286.62bn by 2023 with a compound annual growth rate (CAGR) of 10.26% from 2018 to 2023. The modern era of online education has enforced a lot in its growth and expansion beyond any limit. Due to having many dominant features like ease of information sharing, personalized learning experience, transparency of assessment, etc, it is now preferable to traditional education. \n",
    "\n",
    "In the present scenario due to the Covid-19, the online education sector has witnessed rapid growth and is attracting a lot of new customers. Due to this rapid growth, many new companies have emerged in this industry. With the availability and ease of use of digital marketing resources, companies can reach out to a wider audience with their offerings. The customers who show interest in these offerings are termed as leads. There are various sources of obtaining leads for Edtech companies, like\n",
    "\n",
    "* The customer interacts with the marketing front on social media or other online platforms. \n",
    "* The customer browses the website/app and downloads the brochure\n",
    "* The customer connects through emails for more information.\n",
    "\n",
    "The company then nurtures these leads and tries to convert them to paid customers. For this, the representative from the organization connects with the lead on call or through email to share further details.\n",
    "\n",
    "## Objective\n",
    "\n",
    "ExtraaLearn is an initial stage startup that offers programs on cutting-edge technologies to students and professionals to help them upskill/reskill. With a large number of leads being generated on a regular basis, one of the issues faced by ExtraaLearn is to identify which of the leads are more likely to convert so that they can allocate resources accordingly. You, as a data scientist at ExtraaLearn, have been provided the leads data to:\n",
    "* Analyze and build an ML model to help identify which leads are more likely to convert to paid customers, \n",
    "* Find the factors driving the lead conversion process\n",
    "* Create a profile of the leads which are likely to convert\n",
    "\n",
    "\n",
    "## Data Description\n",
    "\n",
    "The data contains the different attributes of leads and their interaction details with ExtraaLearn. The detailed data dictionary is given below.\n",
    "\n",
    "\n",
    "**Data Dictionary**\n",
    "* ID: ID of the lead\n",
    "* age: Age of the lead\n",
    "* current_occupation: Current occupation of the lead. Values include 'Professional','Unemployed',and 'Student'\n",
    "* first_interaction: How did the lead first interacted with ExtraaLearn. Values include 'Website', 'Mobile App'\n",
    "* profile_completed: What percentage of profile has been filled by the lead on the website/mobile app. Values include Low - (0-50%), Medium - (50-75%), High (75-100%)\n",
    "* website_visits: How many times has a lead visited the website\n",
    "* time_spent_on_website: Total time spent on the website\n",
    "* page_views_per_visit: Average number of pages on the website viewed during the visits.\n",
    "* last_activity: Last interaction between the lead and ExtraaLearn. \n",
    "    * Email Activity: Seeking for details about program through email, Representative shared information with lead like brochure of program , etc \n",
    "    * Phone Activity: Had a Phone Conversation with representative, Had conversation over SMS with representative, etc\n",
    "    * Website Activity: Interacted on live chat with representative, Updated profile on website, etc\n",
    "\n",
    "* print_media_type1: Flag indicating whether the lead had seen the ad of ExtraaLearn in the Newspaper.\n",
    "* print_media_type2: Flag indicating whether the lead had seen the ad of ExtraaLearn in the Magazine.\n",
    "* digital_media: Flag indicating whether the lead had seen the ad of ExtraaLearn on the digital platforms.\n",
    "* educational_channels: Flag indicating whether the lead had heard about ExtraaLearn in the education channels like online forums, discussion threads, educational websites, etc.\n",
    "* referral: Flag indicating whether the lead had heard about ExtraaLearn through reference.\n",
    "* status: Flag indicating whether the lead was converted to a paid customer or not."
   ]
  },
  {
   "cell_type": "markdown",
   "id": "dirty-island",
   "metadata": {
    "id": "dirty-island"
   },
   "source": [
    "## Importing necessary libraries and data"
   ]
  },
  {
   "cell_type": "code",
   "execution_count": 1,
   "id": "statewide-still",
   "metadata": {
    "id": "statewide-still"
   },
   "outputs": [],
   "source": [
    "import pandas as pd  \n",
    "import numpy as np \n",
    "import seaborn as sns\n",
    "import matplotlib.pyplot as plt  \n"
   ]
  },
  {
   "cell_type": "markdown",
   "id": "desperate-infection",
   "metadata": {
    "id": "desperate-infection"
   },
   "source": [
    "## Data Overview\n",
    "\n",
    "- Observations\n",
    "- Sanity checks"
   ]
  },
  {
   "cell_type": "code",
   "execution_count": 2,
   "id": "persistent-juice",
   "metadata": {
    "id": "persistent-juice"
   },
   "outputs": [
    {
     "data": {
      "text/html": [
       "<div>\n",
       "<style scoped>\n",
       "    .dataframe tbody tr th:only-of-type {\n",
       "        vertical-align: middle;\n",
       "    }\n",
       "\n",
       "    .dataframe tbody tr th {\n",
       "        vertical-align: top;\n",
       "    }\n",
       "\n",
       "    .dataframe thead th {\n",
       "        text-align: right;\n",
       "    }\n",
       "</style>\n",
       "<table border=\"1\" class=\"dataframe\">\n",
       "  <thead>\n",
       "    <tr style=\"text-align: right;\">\n",
       "      <th></th>\n",
       "      <th>ID</th>\n",
       "      <th>age</th>\n",
       "      <th>current_occupation</th>\n",
       "      <th>first_interaction</th>\n",
       "      <th>profile_completed</th>\n",
       "      <th>website_visits</th>\n",
       "      <th>time_spent_on_website</th>\n",
       "      <th>page_views_per_visit</th>\n",
       "      <th>last_activity</th>\n",
       "      <th>print_media_type1</th>\n",
       "      <th>print_media_type2</th>\n",
       "      <th>digital_media</th>\n",
       "      <th>educational_channels</th>\n",
       "      <th>referral</th>\n",
       "      <th>status</th>\n",
       "    </tr>\n",
       "  </thead>\n",
       "  <tbody>\n",
       "    <tr>\n",
       "      <th>0</th>\n",
       "      <td>EXT001</td>\n",
       "      <td>57</td>\n",
       "      <td>Unemployed</td>\n",
       "      <td>Website</td>\n",
       "      <td>High</td>\n",
       "      <td>7</td>\n",
       "      <td>1639</td>\n",
       "      <td>1.861</td>\n",
       "      <td>Website Activity</td>\n",
       "      <td>Yes</td>\n",
       "      <td>No</td>\n",
       "      <td>Yes</td>\n",
       "      <td>No</td>\n",
       "      <td>No</td>\n",
       "      <td>1</td>\n",
       "    </tr>\n",
       "    <tr>\n",
       "      <th>1</th>\n",
       "      <td>EXT002</td>\n",
       "      <td>56</td>\n",
       "      <td>Professional</td>\n",
       "      <td>Mobile App</td>\n",
       "      <td>Medium</td>\n",
       "      <td>2</td>\n",
       "      <td>83</td>\n",
       "      <td>0.320</td>\n",
       "      <td>Website Activity</td>\n",
       "      <td>No</td>\n",
       "      <td>No</td>\n",
       "      <td>No</td>\n",
       "      <td>Yes</td>\n",
       "      <td>No</td>\n",
       "      <td>0</td>\n",
       "    </tr>\n",
       "    <tr>\n",
       "      <th>2</th>\n",
       "      <td>EXT003</td>\n",
       "      <td>52</td>\n",
       "      <td>Professional</td>\n",
       "      <td>Website</td>\n",
       "      <td>Medium</td>\n",
       "      <td>3</td>\n",
       "      <td>330</td>\n",
       "      <td>0.074</td>\n",
       "      <td>Website Activity</td>\n",
       "      <td>No</td>\n",
       "      <td>No</td>\n",
       "      <td>Yes</td>\n",
       "      <td>No</td>\n",
       "      <td>No</td>\n",
       "      <td>0</td>\n",
       "    </tr>\n",
       "    <tr>\n",
       "      <th>3</th>\n",
       "      <td>EXT004</td>\n",
       "      <td>53</td>\n",
       "      <td>Unemployed</td>\n",
       "      <td>Website</td>\n",
       "      <td>High</td>\n",
       "      <td>4</td>\n",
       "      <td>464</td>\n",
       "      <td>2.057</td>\n",
       "      <td>Website Activity</td>\n",
       "      <td>No</td>\n",
       "      <td>No</td>\n",
       "      <td>No</td>\n",
       "      <td>No</td>\n",
       "      <td>No</td>\n",
       "      <td>1</td>\n",
       "    </tr>\n",
       "    <tr>\n",
       "      <th>4</th>\n",
       "      <td>EXT005</td>\n",
       "      <td>23</td>\n",
       "      <td>Student</td>\n",
       "      <td>Website</td>\n",
       "      <td>High</td>\n",
       "      <td>4</td>\n",
       "      <td>600</td>\n",
       "      <td>16.914</td>\n",
       "      <td>Email Activity</td>\n",
       "      <td>No</td>\n",
       "      <td>No</td>\n",
       "      <td>No</td>\n",
       "      <td>No</td>\n",
       "      <td>No</td>\n",
       "      <td>0</td>\n",
       "    </tr>\n",
       "  </tbody>\n",
       "</table>\n",
       "</div>"
      ],
      "text/plain": [
       "       ID  age current_occupation first_interaction profile_completed  \\\n",
       "0  EXT001   57         Unemployed           Website              High   \n",
       "1  EXT002   56       Professional        Mobile App            Medium   \n",
       "2  EXT003   52       Professional           Website            Medium   \n",
       "3  EXT004   53         Unemployed           Website              High   \n",
       "4  EXT005   23            Student           Website              High   \n",
       "\n",
       "   website_visits  time_spent_on_website  page_views_per_visit  \\\n",
       "0               7                   1639                 1.861   \n",
       "1               2                     83                 0.320   \n",
       "2               3                    330                 0.074   \n",
       "3               4                    464                 2.057   \n",
       "4               4                    600                16.914   \n",
       "\n",
       "      last_activity print_media_type1 print_media_type2 digital_media  \\\n",
       "0  Website Activity               Yes                No           Yes   \n",
       "1  Website Activity                No                No            No   \n",
       "2  Website Activity                No                No           Yes   \n",
       "3  Website Activity                No                No            No   \n",
       "4    Email Activity                No                No            No   \n",
       "\n",
       "  educational_channels referral  status  \n",
       "0                   No       No       1  \n",
       "1                  Yes       No       0  \n",
       "2                   No       No       0  \n",
       "3                   No       No       1  \n",
       "4                   No       No       0  "
      ]
     },
     "execution_count": 2,
     "metadata": {},
     "output_type": "execute_result"
    }
   ],
   "source": [
    "data = pd.read_csv('ExtraaLearn.csv')\n",
    "data.head()"
   ]
  },
  {
   "cell_type": "code",
   "execution_count": 3,
   "id": "b153cb8a",
   "metadata": {},
   "outputs": [
    {
     "name": "stdout",
     "output_type": "stream",
     "text": [
      "<class 'pandas.core.frame.DataFrame'>\n",
      "RangeIndex: 4612 entries, 0 to 4611\n",
      "Data columns (total 15 columns):\n",
      " #   Column                 Non-Null Count  Dtype  \n",
      "---  ------                 --------------  -----  \n",
      " 0   ID                     4612 non-null   object \n",
      " 1   age                    4612 non-null   int64  \n",
      " 2   current_occupation     4612 non-null   object \n",
      " 3   first_interaction      4612 non-null   object \n",
      " 4   profile_completed      4612 non-null   object \n",
      " 5   website_visits         4612 non-null   int64  \n",
      " 6   time_spent_on_website  4612 non-null   int64  \n",
      " 7   page_views_per_visit   4612 non-null   float64\n",
      " 8   last_activity          4612 non-null   object \n",
      " 9   print_media_type1      4612 non-null   object \n",
      " 10  print_media_type2      4612 non-null   object \n",
      " 11  digital_media          4612 non-null   object \n",
      " 12  educational_channels   4612 non-null   object \n",
      " 13  referral               4612 non-null   object \n",
      " 14  status                 4612 non-null   int64  \n",
      "dtypes: float64(1), int64(4), object(10)\n",
      "memory usage: 540.6+ KB\n"
     ]
    }
   ],
   "source": [
    "data.info()"
   ]
  },
  {
   "cell_type": "markdown",
   "id": "bf83c42a",
   "metadata": {},
   "source": [
    "print media type1 and print media type2 are a little confusing so we will rename them to Newspaper and Magazine, respectively"
   ]
  },
  {
   "cell_type": "code",
   "execution_count": 4,
   "id": "eeff02a7",
   "metadata": {},
   "outputs": [],
   "source": [
    "data = data.rename(columns={'print_media_type1' : 'newspaper', 'print_media_type2': 'magazine'})"
   ]
  },
  {
   "cell_type": "code",
   "execution_count": 5,
   "id": "35f11f64",
   "metadata": {},
   "outputs": [
    {
     "name": "stdout",
     "output_type": "stream",
     "text": [
      "<class 'pandas.core.frame.DataFrame'>\n",
      "RangeIndex: 4612 entries, 0 to 4611\n",
      "Data columns (total 15 columns):\n",
      " #   Column                 Non-Null Count  Dtype  \n",
      "---  ------                 --------------  -----  \n",
      " 0   ID                     4612 non-null   object \n",
      " 1   age                    4612 non-null   int64  \n",
      " 2   current_occupation     4612 non-null   object \n",
      " 3   first_interaction      4612 non-null   object \n",
      " 4   profile_completed      4612 non-null   object \n",
      " 5   website_visits         4612 non-null   int64  \n",
      " 6   time_spent_on_website  4612 non-null   int64  \n",
      " 7   page_views_per_visit   4612 non-null   float64\n",
      " 8   last_activity          4612 non-null   object \n",
      " 9   newspaper              4612 non-null   object \n",
      " 10  magazine               4612 non-null   object \n",
      " 11  digital_media          4612 non-null   object \n",
      " 12  educational_channels   4612 non-null   object \n",
      " 13  referral               4612 non-null   object \n",
      " 14  status                 4612 non-null   int64  \n",
      "dtypes: float64(1), int64(4), object(10)\n",
      "memory usage: 540.6+ KB\n"
     ]
    }
   ],
   "source": [
    "data.info()"
   ]
  },
  {
   "cell_type": "code",
   "execution_count": 6,
   "id": "d71db387",
   "metadata": {},
   "outputs": [
    {
     "data": {
      "text/html": [
       "<div>\n",
       "<style scoped>\n",
       "    .dataframe tbody tr th:only-of-type {\n",
       "        vertical-align: middle;\n",
       "    }\n",
       "\n",
       "    .dataframe tbody tr th {\n",
       "        vertical-align: top;\n",
       "    }\n",
       "\n",
       "    .dataframe thead th {\n",
       "        text-align: right;\n",
       "    }\n",
       "</style>\n",
       "<table border=\"1\" class=\"dataframe\">\n",
       "  <thead>\n",
       "    <tr style=\"text-align: right;\">\n",
       "      <th></th>\n",
       "      <th>count</th>\n",
       "      <th>mean</th>\n",
       "      <th>std</th>\n",
       "      <th>min</th>\n",
       "      <th>25%</th>\n",
       "      <th>50%</th>\n",
       "      <th>75%</th>\n",
       "      <th>max</th>\n",
       "    </tr>\n",
       "  </thead>\n",
       "  <tbody>\n",
       "    <tr>\n",
       "      <th>age</th>\n",
       "      <td>4612.0</td>\n",
       "      <td>46.201214</td>\n",
       "      <td>13.161454</td>\n",
       "      <td>18.0</td>\n",
       "      <td>36.00000</td>\n",
       "      <td>51.000</td>\n",
       "      <td>57.00000</td>\n",
       "      <td>63.000</td>\n",
       "    </tr>\n",
       "    <tr>\n",
       "      <th>website_visits</th>\n",
       "      <td>4612.0</td>\n",
       "      <td>3.566782</td>\n",
       "      <td>2.829134</td>\n",
       "      <td>0.0</td>\n",
       "      <td>2.00000</td>\n",
       "      <td>3.000</td>\n",
       "      <td>5.00000</td>\n",
       "      <td>30.000</td>\n",
       "    </tr>\n",
       "    <tr>\n",
       "      <th>time_spent_on_website</th>\n",
       "      <td>4612.0</td>\n",
       "      <td>724.011275</td>\n",
       "      <td>743.828683</td>\n",
       "      <td>0.0</td>\n",
       "      <td>148.75000</td>\n",
       "      <td>376.000</td>\n",
       "      <td>1336.75000</td>\n",
       "      <td>2537.000</td>\n",
       "    </tr>\n",
       "    <tr>\n",
       "      <th>page_views_per_visit</th>\n",
       "      <td>4612.0</td>\n",
       "      <td>3.026126</td>\n",
       "      <td>1.968125</td>\n",
       "      <td>0.0</td>\n",
       "      <td>2.07775</td>\n",
       "      <td>2.792</td>\n",
       "      <td>3.75625</td>\n",
       "      <td>18.434</td>\n",
       "    </tr>\n",
       "    <tr>\n",
       "      <th>status</th>\n",
       "      <td>4612.0</td>\n",
       "      <td>0.298569</td>\n",
       "      <td>0.457680</td>\n",
       "      <td>0.0</td>\n",
       "      <td>0.00000</td>\n",
       "      <td>0.000</td>\n",
       "      <td>1.00000</td>\n",
       "      <td>1.000</td>\n",
       "    </tr>\n",
       "  </tbody>\n",
       "</table>\n",
       "</div>"
      ],
      "text/plain": [
       "                        count        mean         std   min        25%  \\\n",
       "age                    4612.0   46.201214   13.161454  18.0   36.00000   \n",
       "website_visits         4612.0    3.566782    2.829134   0.0    2.00000   \n",
       "time_spent_on_website  4612.0  724.011275  743.828683   0.0  148.75000   \n",
       "page_views_per_visit   4612.0    3.026126    1.968125   0.0    2.07775   \n",
       "status                 4612.0    0.298569    0.457680   0.0    0.00000   \n",
       "\n",
       "                           50%         75%       max  \n",
       "age                     51.000    57.00000    63.000  \n",
       "website_visits           3.000     5.00000    30.000  \n",
       "time_spent_on_website  376.000  1336.75000  2537.000  \n",
       "page_views_per_visit     2.792     3.75625    18.434  \n",
       "status                   0.000     1.00000     1.000  "
      ]
     },
     "execution_count": 6,
     "metadata": {},
     "output_type": "execute_result"
    }
   ],
   "source": [
    "data.describe().T"
   ]
  },
  {
   "cell_type": "code",
   "execution_count": 7,
   "id": "88e746e7",
   "metadata": {},
   "outputs": [
    {
     "name": "stdout",
     "output_type": "stream",
     "text": [
      "Percentage of total that have signed up is: % 29.9\n"
     ]
    }
   ],
   "source": [
    "percentage_converted = data.status.value_counts()\n",
    "print(\"Percentage of total that have signed up is: %\", round(percentage_converted[1]/len(data)*100, 1))"
   ]
  },
  {
   "cell_type": "markdown",
   "id": "aec7703d",
   "metadata": {},
   "source": [
    "## Observations \n",
    "- There does not appear to be any missing values.\n",
    "- The Mean age is surprisingly around 46 which indicates a relativley older audience.\n",
    "- Time spent on website has a large standard deviation \n",
    "- There is only a ~30% conversion rate to customers"
   ]
  },
  {
   "cell_type": "markdown",
   "id": "seasonal-calibration",
   "metadata": {
    "id": "seasonal-calibration"
   },
   "source": [
    "## Exploratory Data Analysis (EDA)\n",
    "\n",
    "- EDA is an important part of any project involving data.\n",
    "- It is important to investigate and understand the data better before building a model with it.\n",
    "- A few questions have been mentioned below which will help you approach the analysis in the right manner and generate insights from the data.\n",
    "- A thorough analysis of the data, in addition to the questions mentioned below, should be done."
   ]
  },
  {
   "cell_type": "markdown",
   "id": "f0cdf01e",
   "metadata": {},
   "source": [
    "## Let's Explore our age Demographic first"
   ]
  },
  {
   "cell_type": "code",
   "execution_count": 8,
   "id": "dbec406f",
   "metadata": {},
   "outputs": [
    {
     "data": {
      "text/plain": [
       "<Axes: xlabel='age', ylabel='Count'>"
      ]
     },
     "execution_count": 8,
     "metadata": {},
     "output_type": "execute_result"
    },
    {
     "data": {
      "image/png": "[encoded data removed]",
      "text/plain": [
       "<Figure size 1000x500 with 2 Axes>"
      ]
     },
     "metadata": {},
     "output_type": "display_data"
    }
   ],
   "source": [
    "bins_5 = np.arange(0, 80, 5)\n",
    "bins_10 = np.arange(0,80, 10)\n",
    "plt.figure(figsize = (10, 5))\n",
    "plt.subplot(1,2,1)\n",
    "sns.histplot(x = data['age'], bins = bins_5, hue = data['status'], multiple = 'stack')\n",
    "plt.xticks(bins_5, rotation = 45)\n",
    "plt.subplot(1,2,2)\n",
    "sns.histplot(x = data['age'], bins = bins_10, hue = data['status'], multiple = 'stack' )\n"
   ]
  },
  {
   "cell_type": "markdown",
   "id": "f78d66f2",
   "metadata": {},
   "source": [
    "- We can observe that a majority or \"subscribers\" are 55 - 60 years old.\n",
    "- At each age group about half the amount of people actually sign up, except for younger ages 15 - 25. "
   ]
  },
  {
   "cell_type": "markdown",
   "id": "c70ae508",
   "metadata": {},
   "source": [
    "## Now Let's Explore Occupation Demographic"
   ]
  },
  {
   "cell_type": "code",
   "execution_count": 9,
   "id": "bf3d5964",
   "metadata": {},
   "outputs": [
    {
     "data": {
      "text/plain": [
       "<Axes: xlabel='current_occupation', ylabel='count'>"
      ]
     },
     "execution_count": 9,
     "metadata": {},
     "output_type": "execute_result"
    },
    {
     "data": {
      "image/png": "[encoded data removed]",
      "text/plain": [
       "<Figure size 2000x500 with 1 Axes>"
      ]
     },
     "metadata": {},
     "output_type": "display_data"
    }
   ],
   "source": [
    "plt.figure(figsize = (20, 5))\n",
    "plt.subplot(1,2,1)\n",
    "sns.countplot(x = data['current_occupation'], hue = data['status'])\n"
   ]
  },
  {
   "cell_type": "code",
   "execution_count": 10,
   "id": "93ec9326",
   "metadata": {},
   "outputs": [
    {
     "data": {
      "text/html": [
       "<div>\n",
       "<style scoped>\n",
       "    .dataframe tbody tr th:only-of-type {\n",
       "        vertical-align: middle;\n",
       "    }\n",
       "\n",
       "    .dataframe tbody tr th {\n",
       "        vertical-align: top;\n",
       "    }\n",
       "\n",
       "    .dataframe thead th {\n",
       "        text-align: right;\n",
       "    }\n",
       "</style>\n",
       "<table border=\"1\" class=\"dataframe\">\n",
       "  <thead>\n",
       "    <tr style=\"text-align: right;\">\n",
       "      <th></th>\n",
       "      <th>current_occupation</th>\n",
       "      <th>status</th>\n",
       "      <th>count</th>\n",
       "    </tr>\n",
       "  </thead>\n",
       "  <tbody>\n",
       "    <tr>\n",
       "      <th>0</th>\n",
       "      <td>Professional</td>\n",
       "      <td>0</td>\n",
       "      <td>1687</td>\n",
       "    </tr>\n",
       "    <tr>\n",
       "      <th>1</th>\n",
       "      <td>Professional</td>\n",
       "      <td>1</td>\n",
       "      <td>929</td>\n",
       "    </tr>\n",
       "    <tr>\n",
       "      <th>2</th>\n",
       "      <td>Student</td>\n",
       "      <td>0</td>\n",
       "      <td>490</td>\n",
       "    </tr>\n",
       "    <tr>\n",
       "      <th>3</th>\n",
       "      <td>Student</td>\n",
       "      <td>1</td>\n",
       "      <td>65</td>\n",
       "    </tr>\n",
       "    <tr>\n",
       "      <th>4</th>\n",
       "      <td>Unemployed</td>\n",
       "      <td>0</td>\n",
       "      <td>1058</td>\n",
       "    </tr>\n",
       "    <tr>\n",
       "      <th>5</th>\n",
       "      <td>Unemployed</td>\n",
       "      <td>1</td>\n",
       "      <td>383</td>\n",
       "    </tr>\n",
       "  </tbody>\n",
       "</table>\n",
       "</div>"
      ],
      "text/plain": [
       "  current_occupation  status  count\n",
       "0       Professional       0   1687\n",
       "1       Professional       1    929\n",
       "2            Student       0    490\n",
       "3            Student       1     65\n",
       "4         Unemployed       0   1058\n",
       "5         Unemployed       1    383"
      ]
     },
     "execution_count": 10,
     "metadata": {},
     "output_type": "execute_result"
    }
   ],
   "source": [
    "occ_demo = data.groupby(['current_occupation'], as_index = False)['status'].value_counts()\n",
    "occ_demo"
   ]
  },
  {
   "cell_type": "code",
   "execution_count": 11,
   "id": "5013a19c",
   "metadata": {},
   "outputs": [
    {
     "data": {
      "text/html": [
       "<div>\n",
       "<style scoped>\n",
       "    .dataframe tbody tr th:only-of-type {\n",
       "        vertical-align: middle;\n",
       "    }\n",
       "\n",
       "    .dataframe tbody tr th {\n",
       "        vertical-align: top;\n",
       "    }\n",
       "\n",
       "    .dataframe thead th {\n",
       "        text-align: right;\n",
       "    }\n",
       "</style>\n",
       "<table border=\"1\" class=\"dataframe\">\n",
       "  <thead>\n",
       "    <tr style=\"text-align: right;\">\n",
       "      <th></th>\n",
       "      <th>current_occupation</th>\n",
       "      <th>count</th>\n",
       "      <th>status_1_count</th>\n",
       "      <th>percentage</th>\n",
       "    </tr>\n",
       "  </thead>\n",
       "  <tbody>\n",
       "    <tr>\n",
       "      <th>0</th>\n",
       "      <td>Professional</td>\n",
       "      <td>2616</td>\n",
       "      <td>929</td>\n",
       "      <td>35.5</td>\n",
       "    </tr>\n",
       "    <tr>\n",
       "      <th>1</th>\n",
       "      <td>Student</td>\n",
       "      <td>555</td>\n",
       "      <td>65</td>\n",
       "      <td>11.7</td>\n",
       "    </tr>\n",
       "    <tr>\n",
       "      <th>2</th>\n",
       "      <td>Unemployed</td>\n",
       "      <td>1441</td>\n",
       "      <td>383</td>\n",
       "      <td>26.6</td>\n",
       "    </tr>\n",
       "  </tbody>\n",
       "</table>\n",
       "</div>"
      ],
      "text/plain": [
       "  current_occupation  count  status_1_count  percentage\n",
       "0       Professional   2616             929        35.5\n",
       "1            Student    555              65        11.7\n",
       "2         Unemployed   1441             383        26.6"
      ]
     },
     "execution_count": 11,
     "metadata": {},
     "output_type": "execute_result"
    }
   ],
   "source": [
    "# Calculate the total count for each occupation\n",
    "total_counts = occ_demo.groupby('current_occupation')['count'].sum().reset_index()\n",
    "\n",
    "# Calculate the percentage of individuals with 'status' 1 for each occupation\n",
    "percent = occ_demo[occ_demo['status'] == 1].groupby('current_occupation')['count'].sum().reset_index(name='status_1_count')\n",
    "percent = pd.merge(total_counts, percent, on='current_occupation')\n",
    "percent['percentage'] = np.round((percent['status_1_count'] / percent['count']) * 100, 1)\n",
    "percent\n",
    "\n"
   ]
  },
  {
   "cell_type": "markdown",
   "id": "9ba5bbdb",
   "metadata": {},
   "source": [
    "## Observations:\n",
    "- A majority of people who subscribe are professional class, followed by Unemployed, then student"
   ]
  },
  {
   "cell_type": "markdown",
   "id": "f508c0ae",
   "metadata": {},
   "source": [
    "## Lets see how many hours people spend on the site"
   ]
  },
  {
   "cell_type": "code",
   "execution_count": 12,
   "id": "6c421a48",
   "metadata": {},
   "outputs": [
    {
     "data": {
      "text/plain": [
       "0.95"
      ]
     },
     "execution_count": 12,
     "metadata": {},
     "output_type": "execute_result"
    },
    {
     "data": {
      "image/png": "[encoded data removed]",
      "text/plain": [
       "<Figure size 640x480 with 1 Axes>"
      ]
     },
     "metadata": {},
     "output_type": "display_data"
    }
   ],
   "source": [
    "sns.histplot(x = data['time_spent_on_website'], binwidth= 100)\n",
    "np.round(data['time_spent_on_website'].skew(), 2)\n"
   ]
  },
  {
   "cell_type": "code",
   "execution_count": 13,
   "id": "ecd5f1eb",
   "metadata": {},
   "outputs": [
    {
     "name": "stdout",
     "output_type": "stream",
     "text": [
      "first_interaction\n"
     ]
    },
    {
     "data": {
      "image/png": "[encoded data removed]",
      "text/plain": [
       "<Figure size 1500x500 with 2 Axes>"
      ]
     },
     "metadata": {},
     "output_type": "display_data"
    },
    {
     "name": "stdout",
     "output_type": "stream",
     "text": [
      "profile_completed\n"
     ]
    },
    {
     "data": {
      "image/png": "[encoded data removed]",
      "text/plain": [
       "<Figure size 1500x500 with 2 Axes>"
      ]
     },
     "metadata": {},
     "output_type": "display_data"
    },
    {
     "name": "stdout",
     "output_type": "stream",
     "text": [
      "website_visits\n"
     ]
    },
    {
     "data": {
      "image/png": "[encoded data removed]",
      "text/plain": [
       "<Figure size 1500x500 with 2 Axes>"
      ]
     },
     "metadata": {},
     "output_type": "display_data"
    },
    {
     "name": "stdout",
     "output_type": "stream",
     "text": [
      "time_spent_on_website\n"
     ]
    },
    {
     "data": {
      "image/png": "[encoded data removed]",
      "text/plain": [
       "<Figure size 1500x500 with 2 Axes>"
      ]
     },
     "metadata": {},
     "output_type": "display_data"
    },
    {
     "name": "stdout",
     "output_type": "stream",
     "text": [
      "page_views_per_visit\n"
     ]
    },
    {
     "data": {
      "image/png": "[encoded data removed]",
      "text/plain": [
       "<Figure size 1500x500 with 2 Axes>"
      ]
     },
     "metadata": {},
     "output_type": "display_data"
    }
   ],
   "source": [
    "for col in data.columns[3:8]:\n",
    "    print(col)\n",
    "    plt.figure(figsize = (15,5))\n",
    "    plt.subplot(1,2,1)\n",
    "    sns.histplot(x = data[col], hue = data['status'], multiple = 'stack')\n",
    "    plt.subplot(1,2,2)\n",
    "    sns.boxplot(x = data[col])\n",
    "    plt.show()"
   ]
  },
  {
   "cell_type": "markdown",
   "id": "18310770",
   "metadata": {},
   "source": [
    "## Let's look at the other forms of channels"
   ]
  },
  {
   "cell_type": "code",
   "execution_count": 14,
   "id": "91c1830b",
   "metadata": {},
   "outputs": [
    {
     "name": "stdout",
     "output_type": "stream",
     "text": [
      "newspaper\n",
      "number of people that signed on through  newspaper : 159\n"
     ]
    },
    {
     "data": {
      "image/png": "[encoded data removed]",
      "text/plain": [
       "<Figure size 1500x500 with 1 Axes>"
      ]
     },
     "metadata": {},
     "output_type": "display_data"
    },
    {
     "name": "stdout",
     "output_type": "stream",
     "text": [
      "magazine\n",
      "number of people that signed on through  magazine : 75\n"
     ]
    },
    {
     "data": {
      "image/png": "[encoded data removed]",
      "text/plain": [
       "<Figure size 1500x500 with 1 Axes>"
      ]
     },
     "metadata": {},
     "output_type": "display_data"
    },
    {
     "name": "stdout",
     "output_type": "stream",
     "text": [
      "digital_media\n",
      "number of people that signed on through  digital_media : 168\n"
     ]
    },
    {
     "data": {
      "image/png": "[encoded data removed]",
      "text/plain": [
       "<Figure size 1500x500 with 1 Axes>"
      ]
     },
     "metadata": {},
     "output_type": "display_data"
    },
    {
     "name": "stdout",
     "output_type": "stream",
     "text": [
      "educational_channels\n",
      "number of people that signed on through  educational_channels : 197\n"
     ]
    },
    {
     "data": {
      "image/png": "[encoded data removed]",
      "text/plain": [
       "<Figure size 1500x500 with 1 Axes>"
      ]
     },
     "metadata": {},
     "output_type": "display_data"
    }
   ],
   "source": [
    "distribution_channels = ['newspaper', 'magazine', 'digital_media', 'educational_channels', 'None']\n",
    "channels = pd.DataFrame(columns = distribution_channels)\n",
    "channels.loc['Value'] = [None, None, None, None, None]\n",
    "total_yes = 0\n",
    "\n",
    "for col in data.columns[9:13]:\n",
    "    print(col)\n",
    "    condition1 = data[col] == 'Yes'\n",
    "    condition2 = data['status'] == 1\n",
    "    yes = (condition1 & condition2).sum() #amount of people that joined with specific type of advertising\n",
    "    no = (~condition1 & condition2).sum() #amount of people that have joined but did not use any kind of advertising\n",
    "    total_yes = total_yes + yes\n",
    "    channels.at['Value', col] = yes\n",
    "    channels.at['Value', 'None'] = no\n",
    "    print('number of people that signed on through ', col, ':', yes)\n",
    "    plt.figure(figsize = (15,5))\n",
    "    sns.histplot(x = data[col], hue = data['status'], multiple = 'stack')\n",
    "    plt.show()"
   ]
  },
  {
   "cell_type": "code",
   "execution_count": 15,
   "id": "62fb6f98",
   "metadata": {},
   "outputs": [
    {
     "name": "stdout",
     "output_type": "stream",
     "text": [
      "Leads with advertising:  599\n",
      "Leads without advertising:  1180\n"
     ]
    },
    {
     "data": {
      "image/png": "[encoded data removed]",
      "text/plain": [
       "<Figure size 2000x800 with 2 Axes>"
      ]
     },
     "metadata": {},
     "output_type": "display_data"
    }
   ],
   "source": [
    "channels = channels.sort_values(by='Value', axis = 1, ascending = False)\n",
    "plt.figure(figsize=(20,8))\n",
    "plt.subplot(1,2,1)\n",
    "sns.barplot(channels.iloc[:,1:5])\n",
    "\n",
    "plt.subplot(1,2,2)\n",
    "sns.barplot(channels)\n",
    "print('Leads with advertising: ', total_yes)\n",
    "print('Leads without advertising: ', no)"
   ]
  },
  {
   "cell_type": "code",
   "execution_count": 16,
   "id": "735ab284",
   "metadata": {},
   "outputs": [
    {
     "data": {
      "text/html": [
       "<div>\n",
       "<style scoped>\n",
       "    .dataframe tbody tr th:only-of-type {\n",
       "        vertical-align: middle;\n",
       "    }\n",
       "\n",
       "    .dataframe tbody tr th {\n",
       "        vertical-align: top;\n",
       "    }\n",
       "\n",
       "    .dataframe thead th {\n",
       "        text-align: right;\n",
       "    }\n",
       "</style>\n",
       "<table border=\"1\" class=\"dataframe\">\n",
       "  <thead>\n",
       "    <tr style=\"text-align: right;\">\n",
       "      <th></th>\n",
       "      <th>None</th>\n",
       "      <th>educational_channels</th>\n",
       "      <th>digital_media</th>\n",
       "      <th>newspaper</th>\n",
       "      <th>magazine</th>\n",
       "    </tr>\n",
       "  </thead>\n",
       "  <tbody>\n",
       "    <tr>\n",
       "      <th>Value</th>\n",
       "      <td>1180</td>\n",
       "      <td>197</td>\n",
       "      <td>168</td>\n",
       "      <td>159</td>\n",
       "      <td>75</td>\n",
       "    </tr>\n",
       "  </tbody>\n",
       "</table>\n",
       "</div>"
      ],
      "text/plain": [
       "       None educational_channels digital_media newspaper magazine\n",
       "Value  1180                  197           168       159       75"
      ]
     },
     "execution_count": 16,
     "metadata": {},
     "output_type": "execute_result"
    }
   ],
   "source": [
    "channels"
   ]
  },
  {
   "cell_type": "code",
   "execution_count": 17,
   "id": "c5883f5c",
   "metadata": {},
   "outputs": [
    {
     "data": {
      "image/png": "[encoded data removed]",
      "text/plain": [
       "<Figure size 640x480 with 2 Axes>"
      ]
     },
     "metadata": {},
     "output_type": "display_data"
    }
   ],
   "source": [
    "# Identify numeric columns\n",
    "numeric_columns = data.select_dtypes(include=['number']).columns\n",
    "\n",
    "# Create a subset DataFrame with only numeric columns\n",
    "numeric_df = data[numeric_columns]\n",
    "\n",
    "# Create a heatmap\n",
    "sns.heatmap(numeric_df.corr(), annot=True, cmap='coolwarm', fmt='.2f', linewidths=0.5)\n",
    "plt.show()"
   ]
  },
  {
   "cell_type": "markdown",
   "id": "856f9f13",
   "metadata": {},
   "source": [
    "## Observations:\n",
    "- It looks like time_spent_on_website and age are significant factors for leads"
   ]
  },
  {
   "cell_type": "markdown",
   "id": "approved-brother",
   "metadata": {
    "id": "approved-brother"
   },
   "source": [
    "**Questions**\n",
    "1. Leads will have different expectations from the outcome of the course and the current occupation may play a key role in getting them to participate in the program. Find out how current occupation affects lead status.\n",
    "2. The company's first impression on the customer must have an impact. Do the first channels of interaction have an impact on the lead status? \n",
    "3. The company uses multiple modes to interact with prospects. Which way of interaction works best? \n",
    "4. The company gets leads from various channels such as print media, digital media, referrals, etc. Which of these channels have the highest lead conversion rate?\n",
    "5. People browsing the website or mobile application are generally required to create a profile by sharing their personal data before they can access additional information.Does having more details about a prospect increase the chances of conversion?"
   ]
  },
  {
   "cell_type": "markdown",
   "id": "6bcff676",
   "metadata": {},
   "source": [
    "## Answers ##\n",
    "1. It was shown above that a majority of leads had jobs. \n",
    "- 35.5% of leads were professional\n",
    "- 26.6 were unemployed\n",
    "- 11.7% were students\n",
    "2. Based on the plots developed in examining hours spent on the site. It was found that a majority of people joined after first interacting with the company website. \n",
    "3. I believe the website is best when it comes to interacting with customers, data is supported by time spent on website, website compared to app, and website visits.\n",
    "4. Leads through educational_channels have the most conversion rates.\n",
    "    1. Educational Channels = 197 leads\n",
    "    2. Digital Media = 168 leads\n",
    "    3. Newspaper = 159 leads\n",
    "    4. Magazine = 75 leads\n",
    "5. People that have finished >50% of their profile are more likely to become leads. \n"
   ]
  },
  {
   "cell_type": "markdown",
   "id": "alleged-spirituality",
   "metadata": {
    "id": "alleged-spirituality"
   },
   "source": [
    "## Data Preprocessing\n",
    "\n",
    "- Missing value treatment (if needed)\n",
    "- Feature engineering (if needed)\n",
    "- Outlier detection and treatment (if needed)\n",
    "- Preparing data for modeling \n",
    "- Any other preprocessing steps (if needed)"
   ]
  },
  {
   "cell_type": "code",
   "execution_count": 18,
   "id": "eebb0ccb",
   "metadata": {},
   "outputs": [
    {
     "data": {
      "text/plain": [
       "ID                       0\n",
       "age                      0\n",
       "current_occupation       0\n",
       "first_interaction        0\n",
       "profile_completed        0\n",
       "website_visits           0\n",
       "time_spent_on_website    0\n",
       "page_views_per_visit     0\n",
       "last_activity            0\n",
       "newspaper                0\n",
       "magazine                 0\n",
       "digital_media            0\n",
       "educational_channels     0\n",
       "referral                 0\n",
       "status                   0\n",
       "dtype: int64"
      ]
     },
     "execution_count": 18,
     "metadata": {},
     "output_type": "execute_result"
    }
   ],
   "source": [
    "data.isnull().sum()"
   ]
  },
  {
   "cell_type": "code",
   "execution_count": 19,
   "id": "increasing-louisiana",
   "metadata": {
    "id": "increasing-louisiana"
   },
   "outputs": [
    {
     "name": "stdout",
     "output_type": "stream",
     "text": [
      "<class 'pandas.core.frame.DataFrame'>\n",
      "RangeIndex: 4612 entries, 0 to 4611\n",
      "Data columns (total 15 columns):\n",
      " #   Column                 Non-Null Count  Dtype  \n",
      "---  ------                 --------------  -----  \n",
      " 0   ID                     4612 non-null   object \n",
      " 1   age                    4612 non-null   int64  \n",
      " 2   current_occupation     4612 non-null   object \n",
      " 3   first_interaction      4612 non-null   object \n",
      " 4   profile_completed      4612 non-null   object \n",
      " 5   website_visits         4612 non-null   int64  \n",
      " 6   time_spent_on_website  4612 non-null   int64  \n",
      " 7   page_views_per_visit   4612 non-null   float64\n",
      " 8   last_activity          4612 non-null   object \n",
      " 9   newspaper              4612 non-null   object \n",
      " 10  magazine               4612 non-null   object \n",
      " 11  digital_media          4612 non-null   object \n",
      " 12  educational_channels   4612 non-null   object \n",
      " 13  referral               4612 non-null   object \n",
      " 14  status                 4612 non-null   int64  \n",
      "dtypes: float64(1), int64(4), object(10)\n",
      "memory usage: 540.6+ KB\n"
     ]
    }
   ],
   "source": [
    "data.info()\n",
    "train_data = data.copy()"
   ]
  },
  {
   "cell_type": "markdown",
   "id": "9c6d18ce",
   "metadata": {},
   "source": [
    "ID and status can both be removed from the dataset. \n",
    "- ID - pointless to have since we are trying to generalize to a certain demographic\n",
    "- status - we are creating a model for this so this should not be included in training="
   ]
  },
  {
   "cell_type": "code",
   "execution_count": 20,
   "id": "f26c8d98",
   "metadata": {},
   "outputs": [
    {
     "name": "stdout",
     "output_type": "stream",
     "text": [
      "<class 'pandas.core.frame.DataFrame'>\n",
      "RangeIndex: 4612 entries, 0 to 4611\n",
      "Data columns (total 13 columns):\n",
      " #   Column                 Non-Null Count  Dtype  \n",
      "---  ------                 --------------  -----  \n",
      " 0   age                    4612 non-null   int64  \n",
      " 1   current_occupation     4612 non-null   object \n",
      " 2   first_interaction      4612 non-null   object \n",
      " 3   profile_completed      4612 non-null   object \n",
      " 4   website_visits         4612 non-null   int64  \n",
      " 5   time_spent_on_website  4612 non-null   int64  \n",
      " 6   page_views_per_visit   4612 non-null   float64\n",
      " 7   last_activity          4612 non-null   object \n",
      " 8   newspaper              4612 non-null   object \n",
      " 9   magazine               4612 non-null   object \n",
      " 10  digital_media          4612 non-null   object \n",
      " 11  educational_channels   4612 non-null   object \n",
      " 12  referral               4612 non-null   object \n",
      "dtypes: float64(1), int64(3), object(9)\n",
      "memory usage: 468.5+ KB\n"
     ]
    }
   ],
   "source": [
    "train_data = train_data.drop([\"ID\", \"status\"], axis = 1)\n",
    "status = data[['status']]\n",
    "train_data.info()"
   ]
  },
  {
   "cell_type": "markdown",
   "id": "9d9affc7",
   "metadata": {},
   "source": [
    "## Creating Dummy Variables"
   ]
  },
  {
   "cell_type": "code",
   "execution_count": 21,
   "id": "3aedf091",
   "metadata": {},
   "outputs": [],
   "source": [
    "def encode_cat_vars(x):\n",
    "    x = pd.get_dummies(\n",
    "        x,\n",
    "        columns = x.select_dtypes(include = [\"object\", \"category\"]).columns.tolist(),\n",
    "        drop_first = False,\n",
    "    )\n",
    "    return x"
   ]
  },
  {
   "cell_type": "code",
   "execution_count": 22,
   "id": "37ea968c",
   "metadata": {},
   "outputs": [
    {
     "data": {
      "text/html": [
       "<div>\n",
       "<style scoped>\n",
       "    .dataframe tbody tr th:only-of-type {\n",
       "        vertical-align: middle;\n",
       "    }\n",
       "\n",
       "    .dataframe tbody tr th {\n",
       "        vertical-align: top;\n",
       "    }\n",
       "\n",
       "    .dataframe thead th {\n",
       "        text-align: right;\n",
       "    }\n",
       "</style>\n",
       "<table border=\"1\" class=\"dataframe\">\n",
       "  <thead>\n",
       "    <tr style=\"text-align: right;\">\n",
       "      <th></th>\n",
       "      <th>age</th>\n",
       "      <th>current_occupation</th>\n",
       "      <th>first_interaction</th>\n",
       "      <th>profile_completed</th>\n",
       "      <th>website_visits</th>\n",
       "      <th>time_spent_on_website</th>\n",
       "      <th>page_views_per_visit</th>\n",
       "      <th>last_activity</th>\n",
       "      <th>newspaper</th>\n",
       "      <th>magazine</th>\n",
       "      <th>digital_media</th>\n",
       "      <th>educational_channels</th>\n",
       "      <th>referral</th>\n",
       "    </tr>\n",
       "  </thead>\n",
       "  <tbody>\n",
       "    <tr>\n",
       "      <th>0</th>\n",
       "      <td>57</td>\n",
       "      <td>Unemployed</td>\n",
       "      <td>Website</td>\n",
       "      <td>High</td>\n",
       "      <td>7</td>\n",
       "      <td>1639</td>\n",
       "      <td>1.861</td>\n",
       "      <td>Website Activity</td>\n",
       "      <td>Yes</td>\n",
       "      <td>No</td>\n",
       "      <td>Yes</td>\n",
       "      <td>No</td>\n",
       "      <td>No</td>\n",
       "    </tr>\n",
       "    <tr>\n",
       "      <th>1</th>\n",
       "      <td>56</td>\n",
       "      <td>Professional</td>\n",
       "      <td>Mobile App</td>\n",
       "      <td>Medium</td>\n",
       "      <td>2</td>\n",
       "      <td>83</td>\n",
       "      <td>0.320</td>\n",
       "      <td>Website Activity</td>\n",
       "      <td>No</td>\n",
       "      <td>No</td>\n",
       "      <td>No</td>\n",
       "      <td>Yes</td>\n",
       "      <td>No</td>\n",
       "    </tr>\n",
       "    <tr>\n",
       "      <th>2</th>\n",
       "      <td>52</td>\n",
       "      <td>Professional</td>\n",
       "      <td>Website</td>\n",
       "      <td>Medium</td>\n",
       "      <td>3</td>\n",
       "      <td>330</td>\n",
       "      <td>0.074</td>\n",
       "      <td>Website Activity</td>\n",
       "      <td>No</td>\n",
       "      <td>No</td>\n",
       "      <td>Yes</td>\n",
       "      <td>No</td>\n",
       "      <td>No</td>\n",
       "    </tr>\n",
       "    <tr>\n",
       "      <th>3</th>\n",
       "      <td>53</td>\n",
       "      <td>Unemployed</td>\n",
       "      <td>Website</td>\n",
       "      <td>High</td>\n",
       "      <td>4</td>\n",
       "      <td>464</td>\n",
       "      <td>2.057</td>\n",
       "      <td>Website Activity</td>\n",
       "      <td>No</td>\n",
       "      <td>No</td>\n",
       "      <td>No</td>\n",
       "      <td>No</td>\n",
       "      <td>No</td>\n",
       "    </tr>\n",
       "    <tr>\n",
       "      <th>4</th>\n",
       "      <td>23</td>\n",
       "      <td>Student</td>\n",
       "      <td>Website</td>\n",
       "      <td>High</td>\n",
       "      <td>4</td>\n",
       "      <td>600</td>\n",
       "      <td>16.914</td>\n",
       "      <td>Email Activity</td>\n",
       "      <td>No</td>\n",
       "      <td>No</td>\n",
       "      <td>No</td>\n",
       "      <td>No</td>\n",
       "      <td>No</td>\n",
       "    </tr>\n",
       "    <tr>\n",
       "      <th>...</th>\n",
       "      <td>...</td>\n",
       "      <td>...</td>\n",
       "      <td>...</td>\n",
       "      <td>...</td>\n",
       "      <td>...</td>\n",
       "      <td>...</td>\n",
       "      <td>...</td>\n",
       "      <td>...</td>\n",
       "      <td>...</td>\n",
       "      <td>...</td>\n",
       "      <td>...</td>\n",
       "      <td>...</td>\n",
       "      <td>...</td>\n",
       "    </tr>\n",
       "    <tr>\n",
       "      <th>4607</th>\n",
       "      <td>35</td>\n",
       "      <td>Unemployed</td>\n",
       "      <td>Mobile App</td>\n",
       "      <td>Medium</td>\n",
       "      <td>15</td>\n",
       "      <td>360</td>\n",
       "      <td>2.170</td>\n",
       "      <td>Phone Activity</td>\n",
       "      <td>No</td>\n",
       "      <td>No</td>\n",
       "      <td>No</td>\n",
       "      <td>Yes</td>\n",
       "      <td>No</td>\n",
       "    </tr>\n",
       "    <tr>\n",
       "      <th>4608</th>\n",
       "      <td>55</td>\n",
       "      <td>Professional</td>\n",
       "      <td>Mobile App</td>\n",
       "      <td>Medium</td>\n",
       "      <td>8</td>\n",
       "      <td>2327</td>\n",
       "      <td>5.393</td>\n",
       "      <td>Email Activity</td>\n",
       "      <td>No</td>\n",
       "      <td>No</td>\n",
       "      <td>No</td>\n",
       "      <td>No</td>\n",
       "      <td>No</td>\n",
       "    </tr>\n",
       "    <tr>\n",
       "      <th>4609</th>\n",
       "      <td>58</td>\n",
       "      <td>Professional</td>\n",
       "      <td>Website</td>\n",
       "      <td>High</td>\n",
       "      <td>2</td>\n",
       "      <td>212</td>\n",
       "      <td>2.692</td>\n",
       "      <td>Email Activity</td>\n",
       "      <td>No</td>\n",
       "      <td>No</td>\n",
       "      <td>No</td>\n",
       "      <td>No</td>\n",
       "      <td>No</td>\n",
       "    </tr>\n",
       "    <tr>\n",
       "      <th>4610</th>\n",
       "      <td>57</td>\n",
       "      <td>Professional</td>\n",
       "      <td>Mobile App</td>\n",
       "      <td>Medium</td>\n",
       "      <td>1</td>\n",
       "      <td>154</td>\n",
       "      <td>3.879</td>\n",
       "      <td>Website Activity</td>\n",
       "      <td>Yes</td>\n",
       "      <td>No</td>\n",
       "      <td>No</td>\n",
       "      <td>No</td>\n",
       "      <td>No</td>\n",
       "    </tr>\n",
       "    <tr>\n",
       "      <th>4611</th>\n",
       "      <td>55</td>\n",
       "      <td>Professional</td>\n",
       "      <td>Website</td>\n",
       "      <td>Medium</td>\n",
       "      <td>4</td>\n",
       "      <td>2290</td>\n",
       "      <td>2.075</td>\n",
       "      <td>Phone Activity</td>\n",
       "      <td>No</td>\n",
       "      <td>No</td>\n",
       "      <td>No</td>\n",
       "      <td>No</td>\n",
       "      <td>No</td>\n",
       "    </tr>\n",
       "  </tbody>\n",
       "</table>\n",
       "<p>4612 rows × 13 columns</p>\n",
       "</div>"
      ],
      "text/plain": [
       "      age current_occupation first_interaction profile_completed  \\\n",
       "0      57         Unemployed           Website              High   \n",
       "1      56       Professional        Mobile App            Medium   \n",
       "2      52       Professional           Website            Medium   \n",
       "3      53         Unemployed           Website              High   \n",
       "4      23            Student           Website              High   \n",
       "...   ...                ...               ...               ...   \n",
       "4607   35         Unemployed        Mobile App            Medium   \n",
       "4608   55       Professional        Mobile App            Medium   \n",
       "4609   58       Professional           Website              High   \n",
       "4610   57       Professional        Mobile App            Medium   \n",
       "4611   55       Professional           Website            Medium   \n",
       "\n",
       "      website_visits  time_spent_on_website  page_views_per_visit  \\\n",
       "0                  7                   1639                 1.861   \n",
       "1                  2                     83                 0.320   \n",
       "2                  3                    330                 0.074   \n",
       "3                  4                    464                 2.057   \n",
       "4                  4                    600                16.914   \n",
       "...              ...                    ...                   ...   \n",
       "4607              15                    360                 2.170   \n",
       "4608               8                   2327                 5.393   \n",
       "4609               2                    212                 2.692   \n",
       "4610               1                    154                 3.879   \n",
       "4611               4                   2290                 2.075   \n",
       "\n",
       "         last_activity newspaper magazine digital_media educational_channels  \\\n",
       "0     Website Activity       Yes       No           Yes                   No   \n",
       "1     Website Activity        No       No            No                  Yes   \n",
       "2     Website Activity        No       No           Yes                   No   \n",
       "3     Website Activity        No       No            No                   No   \n",
       "4       Email Activity        No       No            No                   No   \n",
       "...                ...       ...      ...           ...                  ...   \n",
       "4607    Phone Activity        No       No            No                  Yes   \n",
       "4608    Email Activity        No       No            No                   No   \n",
       "4609    Email Activity        No       No            No                   No   \n",
       "4610  Website Activity       Yes       No            No                   No   \n",
       "4611    Phone Activity        No       No            No                   No   \n",
       "\n",
       "     referral  \n",
       "0          No  \n",
       "1          No  \n",
       "2          No  \n",
       "3          No  \n",
       "4          No  \n",
       "...       ...  \n",
       "4607       No  \n",
       "4608       No  \n",
       "4609       No  \n",
       "4610       No  \n",
       "4611       No  \n",
       "\n",
       "[4612 rows x 13 columns]"
      ]
     },
     "execution_count": 22,
     "metadata": {},
     "output_type": "execute_result"
    }
   ],
   "source": [
    "train_data #old training data"
   ]
  },
  {
   "cell_type": "code",
   "execution_count": 23,
   "id": "254fc54d",
   "metadata": {},
   "outputs": [
    {
     "data": {
      "text/html": [
       "<div>\n",
       "<style scoped>\n",
       "    .dataframe tbody tr th:only-of-type {\n",
       "        vertical-align: middle;\n",
       "    }\n",
       "\n",
       "    .dataframe tbody tr th {\n",
       "        vertical-align: top;\n",
       "    }\n",
       "\n",
       "    .dataframe thead th {\n",
       "        text-align: right;\n",
       "    }\n",
       "</style>\n",
       "<table border=\"1\" class=\"dataframe\">\n",
       "  <thead>\n",
       "    <tr style=\"text-align: right;\">\n",
       "      <th></th>\n",
       "      <th>age</th>\n",
       "      <th>website_visits</th>\n",
       "      <th>time_spent_on_website</th>\n",
       "      <th>page_views_per_visit</th>\n",
       "      <th>current_occupation_Professional</th>\n",
       "      <th>current_occupation_Student</th>\n",
       "      <th>current_occupation_Unemployed</th>\n",
       "      <th>first_interaction_Mobile App</th>\n",
       "      <th>first_interaction_Website</th>\n",
       "      <th>profile_completed_High</th>\n",
       "      <th>...</th>\n",
       "      <th>newspaper_No</th>\n",
       "      <th>newspaper_Yes</th>\n",
       "      <th>magazine_No</th>\n",
       "      <th>magazine_Yes</th>\n",
       "      <th>digital_media_No</th>\n",
       "      <th>digital_media_Yes</th>\n",
       "      <th>educational_channels_No</th>\n",
       "      <th>educational_channels_Yes</th>\n",
       "      <th>referral_No</th>\n",
       "      <th>referral_Yes</th>\n",
       "    </tr>\n",
       "  </thead>\n",
       "  <tbody>\n",
       "    <tr>\n",
       "      <th>0</th>\n",
       "      <td>57</td>\n",
       "      <td>7</td>\n",
       "      <td>1639</td>\n",
       "      <td>1.861</td>\n",
       "      <td>False</td>\n",
       "      <td>False</td>\n",
       "      <td>True</td>\n",
       "      <td>False</td>\n",
       "      <td>True</td>\n",
       "      <td>True</td>\n",
       "      <td>...</td>\n",
       "      <td>False</td>\n",
       "      <td>True</td>\n",
       "      <td>True</td>\n",
       "      <td>False</td>\n",
       "      <td>False</td>\n",
       "      <td>True</td>\n",
       "      <td>True</td>\n",
       "      <td>False</td>\n",
       "      <td>True</td>\n",
       "      <td>False</td>\n",
       "    </tr>\n",
       "    <tr>\n",
       "      <th>1</th>\n",
       "      <td>56</td>\n",
       "      <td>2</td>\n",
       "      <td>83</td>\n",
       "      <td>0.320</td>\n",
       "      <td>True</td>\n",
       "      <td>False</td>\n",
       "      <td>False</td>\n",
       "      <td>True</td>\n",
       "      <td>False</td>\n",
       "      <td>False</td>\n",
       "      <td>...</td>\n",
       "      <td>True</td>\n",
       "      <td>False</td>\n",
       "      <td>True</td>\n",
       "      <td>False</td>\n",
       "      <td>True</td>\n",
       "      <td>False</td>\n",
       "      <td>False</td>\n",
       "      <td>True</td>\n",
       "      <td>True</td>\n",
       "      <td>False</td>\n",
       "    </tr>\n",
       "    <tr>\n",
       "      <th>2</th>\n",
       "      <td>52</td>\n",
       "      <td>3</td>\n",
       "      <td>330</td>\n",
       "      <td>0.074</td>\n",
       "      <td>True</td>\n",
       "      <td>False</td>\n",
       "      <td>False</td>\n",
       "      <td>False</td>\n",
       "      <td>True</td>\n",
       "      <td>False</td>\n",
       "      <td>...</td>\n",
       "      <td>True</td>\n",
       "      <td>False</td>\n",
       "      <td>True</td>\n",
       "      <td>False</td>\n",
       "      <td>False</td>\n",
       "      <td>True</td>\n",
       "      <td>True</td>\n",
       "      <td>False</td>\n",
       "      <td>True</td>\n",
       "      <td>False</td>\n",
       "    </tr>\n",
       "    <tr>\n",
       "      <th>3</th>\n",
       "      <td>53</td>\n",
       "      <td>4</td>\n",
       "      <td>464</td>\n",
       "      <td>2.057</td>\n",
       "      <td>False</td>\n",
       "      <td>False</td>\n",
       "      <td>True</td>\n",
       "      <td>False</td>\n",
       "      <td>True</td>\n",
       "      <td>True</td>\n",
       "      <td>...</td>\n",
       "      <td>True</td>\n",
       "      <td>False</td>\n",
       "      <td>True</td>\n",
       "      <td>False</td>\n",
       "      <td>True</td>\n",
       "      <td>False</td>\n",
       "      <td>True</td>\n",
       "      <td>False</td>\n",
       "      <td>True</td>\n",
       "      <td>False</td>\n",
       "    </tr>\n",
       "    <tr>\n",
       "      <th>4</th>\n",
       "      <td>23</td>\n",
       "      <td>4</td>\n",
       "      <td>600</td>\n",
       "      <td>16.914</td>\n",
       "      <td>False</td>\n",
       "      <td>True</td>\n",
       "      <td>False</td>\n",
       "      <td>False</td>\n",
       "      <td>True</td>\n",
       "      <td>True</td>\n",
       "      <td>...</td>\n",
       "      <td>True</td>\n",
       "      <td>False</td>\n",
       "      <td>True</td>\n",
       "      <td>False</td>\n",
       "      <td>True</td>\n",
       "      <td>False</td>\n",
       "      <td>True</td>\n",
       "      <td>False</td>\n",
       "      <td>True</td>\n",
       "      <td>False</td>\n",
       "    </tr>\n",
       "    <tr>\n",
       "      <th>...</th>\n",
       "      <td>...</td>\n",
       "      <td>...</td>\n",
       "      <td>...</td>\n",
       "      <td>...</td>\n",
       "      <td>...</td>\n",
       "      <td>...</td>\n",
       "      <td>...</td>\n",
       "      <td>...</td>\n",
       "      <td>...</td>\n",
       "      <td>...</td>\n",
       "      <td>...</td>\n",
       "      <td>...</td>\n",
       "      <td>...</td>\n",
       "      <td>...</td>\n",
       "      <td>...</td>\n",
       "      <td>...</td>\n",
       "      <td>...</td>\n",
       "      <td>...</td>\n",
       "      <td>...</td>\n",
       "      <td>...</td>\n",
       "      <td>...</td>\n",
       "    </tr>\n",
       "    <tr>\n",
       "      <th>4607</th>\n",
       "      <td>35</td>\n",
       "      <td>15</td>\n",
       "      <td>360</td>\n",
       "      <td>2.170</td>\n",
       "      <td>False</td>\n",
       "      <td>False</td>\n",
       "      <td>True</td>\n",
       "      <td>True</td>\n",
       "      <td>False</td>\n",
       "      <td>False</td>\n",
       "      <td>...</td>\n",
       "      <td>True</td>\n",
       "      <td>False</td>\n",
       "      <td>True</td>\n",
       "      <td>False</td>\n",
       "      <td>True</td>\n",
       "      <td>False</td>\n",
       "      <td>False</td>\n",
       "      <td>True</td>\n",
       "      <td>True</td>\n",
       "      <td>False</td>\n",
       "    </tr>\n",
       "    <tr>\n",
       "      <th>4608</th>\n",
       "      <td>55</td>\n",
       "      <td>8</td>\n",
       "      <td>2327</td>\n",
       "      <td>5.393</td>\n",
       "      <td>True</td>\n",
       "      <td>False</td>\n",
       "      <td>False</td>\n",
       "      <td>True</td>\n",
       "      <td>False</td>\n",
       "      <td>False</td>\n",
       "      <td>...</td>\n",
       "      <td>True</td>\n",
       "      <td>False</td>\n",
       "      <td>True</td>\n",
       "      <td>False</td>\n",
       "      <td>True</td>\n",
       "      <td>False</td>\n",
       "      <td>True</td>\n",
       "      <td>False</td>\n",
       "      <td>True</td>\n",
       "      <td>False</td>\n",
       "    </tr>\n",
       "    <tr>\n",
       "      <th>4609</th>\n",
       "      <td>58</td>\n",
       "      <td>2</td>\n",
       "      <td>212</td>\n",
       "      <td>2.692</td>\n",
       "      <td>True</td>\n",
       "      <td>False</td>\n",
       "      <td>False</td>\n",
       "      <td>False</td>\n",
       "      <td>True</td>\n",
       "      <td>True</td>\n",
       "      <td>...</td>\n",
       "      <td>True</td>\n",
       "      <td>False</td>\n",
       "      <td>True</td>\n",
       "      <td>False</td>\n",
       "      <td>True</td>\n",
       "      <td>False</td>\n",
       "      <td>True</td>\n",
       "      <td>False</td>\n",
       "      <td>True</td>\n",
       "      <td>False</td>\n",
       "    </tr>\n",
       "    <tr>\n",
       "      <th>4610</th>\n",
       "      <td>57</td>\n",
       "      <td>1</td>\n",
       "      <td>154</td>\n",
       "      <td>3.879</td>\n",
       "      <td>True</td>\n",
       "      <td>False</td>\n",
       "      <td>False</td>\n",
       "      <td>True</td>\n",
       "      <td>False</td>\n",
       "      <td>False</td>\n",
       "      <td>...</td>\n",
       "      <td>False</td>\n",
       "      <td>True</td>\n",
       "      <td>True</td>\n",
       "      <td>False</td>\n",
       "      <td>True</td>\n",
       "      <td>False</td>\n",
       "      <td>True</td>\n",
       "      <td>False</td>\n",
       "      <td>True</td>\n",
       "      <td>False</td>\n",
       "    </tr>\n",
       "    <tr>\n",
       "      <th>4611</th>\n",
       "      <td>55</td>\n",
       "      <td>4</td>\n",
       "      <td>2290</td>\n",
       "      <td>2.075</td>\n",
       "      <td>True</td>\n",
       "      <td>False</td>\n",
       "      <td>False</td>\n",
       "      <td>False</td>\n",
       "      <td>True</td>\n",
       "      <td>False</td>\n",
       "      <td>...</td>\n",
       "      <td>True</td>\n",
       "      <td>False</td>\n",
       "      <td>True</td>\n",
       "      <td>False</td>\n",
       "      <td>True</td>\n",
       "      <td>False</td>\n",
       "      <td>True</td>\n",
       "      <td>False</td>\n",
       "      <td>True</td>\n",
       "      <td>False</td>\n",
       "    </tr>\n",
       "  </tbody>\n",
       "</table>\n",
       "<p>4612 rows × 25 columns</p>\n",
       "</div>"
      ],
      "text/plain": [
       "      age  website_visits  time_spent_on_website  page_views_per_visit  \\\n",
       "0      57               7                   1639                 1.861   \n",
       "1      56               2                     83                 0.320   \n",
       "2      52               3                    330                 0.074   \n",
       "3      53               4                    464                 2.057   \n",
       "4      23               4                    600                16.914   \n",
       "...   ...             ...                    ...                   ...   \n",
       "4607   35              15                    360                 2.170   \n",
       "4608   55               8                   2327                 5.393   \n",
       "4609   58               2                    212                 2.692   \n",
       "4610   57               1                    154                 3.879   \n",
       "4611   55               4                   2290                 2.075   \n",
       "\n",
       "      current_occupation_Professional  current_occupation_Student  \\\n",
       "0                               False                       False   \n",
       "1                                True                       False   \n",
       "2                                True                       False   \n",
       "3                               False                       False   \n",
       "4                               False                        True   \n",
       "...                               ...                         ...   \n",
       "4607                            False                       False   \n",
       "4608                             True                       False   \n",
       "4609                             True                       False   \n",
       "4610                             True                       False   \n",
       "4611                             True                       False   \n",
       "\n",
       "      current_occupation_Unemployed  first_interaction_Mobile App  \\\n",
       "0                              True                         False   \n",
       "1                             False                          True   \n",
       "2                             False                         False   \n",
       "3                              True                         False   \n",
       "4                             False                         False   \n",
       "...                             ...                           ...   \n",
       "4607                           True                          True   \n",
       "4608                          False                          True   \n",
       "4609                          False                         False   \n",
       "4610                          False                          True   \n",
       "4611                          False                         False   \n",
       "\n",
       "      first_interaction_Website  profile_completed_High  ...  newspaper_No  \\\n",
       "0                          True                    True  ...         False   \n",
       "1                         False                   False  ...          True   \n",
       "2                          True                   False  ...          True   \n",
       "3                          True                    True  ...          True   \n",
       "4                          True                    True  ...          True   \n",
       "...                         ...                     ...  ...           ...   \n",
       "4607                      False                   False  ...          True   \n",
       "4608                      False                   False  ...          True   \n",
       "4609                       True                    True  ...          True   \n",
       "4610                      False                   False  ...         False   \n",
       "4611                       True                   False  ...          True   \n",
       "\n",
       "      newspaper_Yes  magazine_No  magazine_Yes  digital_media_No  \\\n",
       "0              True         True         False             False   \n",
       "1             False         True         False              True   \n",
       "2             False         True         False             False   \n",
       "3             False         True         False              True   \n",
       "4             False         True         False              True   \n",
       "...             ...          ...           ...               ...   \n",
       "4607          False         True         False              True   \n",
       "4608          False         True         False              True   \n",
       "4609          False         True         False              True   \n",
       "4610           True         True         False              True   \n",
       "4611          False         True         False              True   \n",
       "\n",
       "      digital_media_Yes  educational_channels_No  educational_channels_Yes  \\\n",
       "0                  True                     True                     False   \n",
       "1                 False                    False                      True   \n",
       "2                  True                     True                     False   \n",
       "3                 False                     True                     False   \n",
       "4                 False                     True                     False   \n",
       "...                 ...                      ...                       ...   \n",
       "4607              False                    False                      True   \n",
       "4608              False                     True                     False   \n",
       "4609              False                     True                     False   \n",
       "4610              False                     True                     False   \n",
       "4611              False                     True                     False   \n",
       "\n",
       "      referral_No  referral_Yes  \n",
       "0            True         False  \n",
       "1            True         False  \n",
       "2            True         False  \n",
       "3            True         False  \n",
       "4            True         False  \n",
       "...           ...           ...  \n",
       "4607         True         False  \n",
       "4608         True         False  \n",
       "4609         True         False  \n",
       "4610         True         False  \n",
       "4611         True         False  \n",
       "\n",
       "[4612 rows x 25 columns]"
      ]
     },
     "execution_count": 23,
     "metadata": {},
     "output_type": "execute_result"
    }
   ],
   "source": [
    "train_dummy = encode_cat_vars(train_data) #training data after one hot encoded\n",
    "train_dummy"
   ]
  },
  {
   "cell_type": "markdown",
   "id": "7f8a5c00",
   "metadata": {},
   "source": [
    "## Looks like our data has no null values, no errors, and the categorical values have been one-hot encoded. \n",
    "\n",
    "## Let's create out train and test data sets now."
   ]
  },
  {
   "cell_type": "code",
   "execution_count": 24,
   "id": "47a7fe7c",
   "metadata": {},
   "outputs": [],
   "source": [
    "from sklearn.model_selection import train_test_split"
   ]
  },
  {
   "cell_type": "code",
   "execution_count": 25,
   "id": "a696cc12",
   "metadata": {},
   "outputs": [
    {
     "name": "stdout",
     "output_type": "stream",
     "text": [
      "<class 'pandas.core.frame.DataFrame'>\n",
      "Index: 3689 entries, 3388 to 860\n",
      "Data columns (total 1 columns):\n",
      " #   Column  Non-Null Count  Dtype\n",
      "---  ------  --------------  -----\n",
      " 0   status  3689 non-null   int64\n",
      "dtypes: int64(1)\n",
      "memory usage: 57.6 KB\n",
      "\n",
      "<class 'pandas.core.frame.DataFrame'>\n",
      "Index: 923 entries, 1073 to 1479\n",
      "Data columns (total 1 columns):\n",
      " #   Column  Non-Null Count  Dtype\n",
      "---  ------  --------------  -----\n",
      " 0   status  923 non-null    int64\n",
      "dtypes: int64(1)\n",
      "memory usage: 14.4 KB\n"
     ]
    }
   ],
   "source": [
    "train_1, test_1, status_train, status_test = train_test_split(train_dummy, status, test_size = .2, random_state = 42)\n",
    "status_train.info()\n",
    "print()\n",
    "status_test.info()"
   ]
  },
  {
   "cell_type": "markdown",
   "id": "amazing-fluid",
   "metadata": {
    "id": "amazing-fluid"
   },
   "source": [
    "## Building a Decision Tree model"
   ]
  },
  {
   "cell_type": "code",
   "execution_count": 26,
   "id": "166b5487",
   "metadata": {},
   "outputs": [],
   "source": [
    "from sklearn.tree import DecisionTreeClassifier\n",
    "from sklearn import metrics\n",
    "from sklearn.metrics import accuracy_score"
   ]
  },
  {
   "cell_type": "code",
   "execution_count": 27,
   "id": "neither-hydrogen",
   "metadata": {
    "id": "neither-hydrogen"
   },
   "outputs": [],
   "source": [
    "dtree = DecisionTreeClassifier(random_state = 42)"
   ]
  },
  {
   "cell_type": "code",
   "execution_count": 28,
   "id": "76239237",
   "metadata": {},
   "outputs": [
    {
     "data": {
      "text/html": [
       "<style>#sk-container-id-1 {color: black;}#sk-container-id-1 pre{padding: 0;}#sk-container-id-1 div.sk-toggleable {background-color: white;}#sk-container-id-1 label.sk-toggleable__label {cursor: pointer;display: block;width: 100%;margin-bottom: 0;padding: 0.3em;box-sizing: border-box;text-align: center;}#sk-container-id-1 label.sk-toggleable__label-arrow:before {content: \"▸\";float: left;margin-right: 0.25em;color: #696969;}#sk-container-id-1 label.sk-toggleable__label-arrow:hover:before {color: black;}#sk-container-id-1 div.sk-estimator:hover label.sk-toggleable__label-arrow:before {color: black;}#sk-container-id-1 div.sk-toggleable__content {max-height: 0;max-width: 0;overflow: hidden;text-align: left;background-color: #f0f8ff;}#sk-container-id-1 div.sk-toggleable__content pre {margin: 0.2em;color: black;border-radius: 0.25em;background-color: #f0f8ff;}#sk-container-id-1 input.sk-toggleable__control:checked~div.sk-toggleable__content {max-height: 200px;max-width: 100%;overflow: auto;}#sk-container-id-1 input.sk-toggleable__control:checked~label.sk-toggleable__label-arrow:before {content: \"▾\";}#sk-container-id-1 div.sk-estimator input.sk-toggleable__control:checked~label.sk-toggleable__label {background-color: #d4ebff;}#sk-container-id-1 div.sk-label input.sk-toggleable__control:checked~label.sk-toggleable__label {background-color: #d4ebff;}#sk-container-id-1 input.sk-hidden--visually {border: 0;clip: rect(1px 1px 1px 1px);clip: rect(1px, 1px, 1px, 1px);height: 1px;margin: -1px;overflow: hidden;padding: 0;position: absolute;width: 1px;}#sk-container-id-1 div.sk-estimator {font-family: monospace;background-color: #f0f8ff;border: 1px dotted black;border-radius: 0.25em;box-sizing: border-box;margin-bottom: 0.5em;}#sk-container-id-1 div.sk-estimator:hover {background-color: #d4ebff;}#sk-container-id-1 div.sk-parallel-item::after {content: \"\";width: 100%;border-bottom: 1px solid gray;flex-grow: 1;}#sk-container-id-1 div.sk-label:hover label.sk-toggleable__label {background-color: #d4ebff;}#sk-container-id-1 div.sk-serial::before {content: \"\";position: absolute;border-left: 1px solid gray;box-sizing: border-box;top: 0;bottom: 0;left: 50%;z-index: 0;}#sk-container-id-1 div.sk-serial {display: flex;flex-direction: column;align-items: center;background-color: white;padding-right: 0.2em;padding-left: 0.2em;position: relative;}#sk-container-id-1 div.sk-item {position: relative;z-index: 1;}#sk-container-id-1 div.sk-parallel {display: flex;align-items: stretch;justify-content: center;background-color: white;position: relative;}#sk-container-id-1 div.sk-item::before, #sk-container-id-1 div.sk-parallel-item::before {content: \"\";position: absolute;border-left: 1px solid gray;box-sizing: border-box;top: 0;bottom: 0;left: 50%;z-index: -1;}#sk-container-id-1 div.sk-parallel-item {display: flex;flex-direction: column;z-index: 1;position: relative;background-color: white;}#sk-container-id-1 div.sk-parallel-item:first-child::after {align-self: flex-end;width: 50%;}#sk-container-id-1 div.sk-parallel-item:last-child::after {align-self: flex-start;width: 50%;}#sk-container-id-1 div.sk-parallel-item:only-child::after {width: 0;}#sk-container-id-1 div.sk-dashed-wrapped {border: 1px dashed gray;margin: 0 0.4em 0.5em 0.4em;box-sizing: border-box;padding-bottom: 0.4em;background-color: white;}#sk-container-id-1 div.sk-label label {font-family: monospace;font-weight: bold;display: inline-block;line-height: 1.2em;}#sk-container-id-1 div.sk-label-container {text-align: center;}#sk-container-id-1 div.sk-container {/* jupyter's `normalize.less` sets `[hidden] { display: none; }` but bootstrap.min.css set `[hidden] { display: none !important; }` so we also need the `!important` here to be able to override the default hidden behavior on the sphinx rendered scikit-learn.org. See: https://github.com/scikit-learn/scikit-learn/issues/21755 */display: inline-block !important;position: relative;}#sk-container-id-1 div.sk-text-repr-fallback {display: none;}</style><div id=\"sk-container-id-1\" class=\"sk-top-container\"><div class=\"sk-text-repr-fallback\"><pre>DecisionTreeClassifier(random_state=42)</pre><b>In a Jupyter environment, please rerun this cell to show the HTML representation or trust the notebook. <br />On GitHub, the HTML representation is unable to render, please try loading this page with nbviewer.org.</b></div><div class=\"sk-container\" hidden><div class=\"sk-item\"><div class=\"sk-estimator sk-toggleable\"><input class=\"sk-toggleable__control sk-hidden--visually\" id=\"sk-estimator-id-1\" type=\"checkbox\" checked><label for=\"sk-estimator-id-1\" class=\"sk-toggleable__label sk-toggleable__label-arrow\">DecisionTreeClassifier</label><div class=\"sk-toggleable__content\"><pre>DecisionTreeClassifier(random_state=42)</pre></div></div></div></div></div>"
      ],
      "text/plain": [
       "DecisionTreeClassifier(random_state=42)"
      ]
     },
     "execution_count": 28,
     "metadata": {},
     "output_type": "execute_result"
    }
   ],
   "source": [
    "dtree.fit(train_1, status_train)"
   ]
  },
  {
   "cell_type": "code",
   "execution_count": 29,
   "id": "e3d287e6",
   "metadata": {},
   "outputs": [
    {
     "name": "stdout",
     "output_type": "stream",
     "text": [
      "Accuracy :  0.9997289238275956\n"
     ]
    }
   ],
   "source": [
    "tree_predict_train = dtree.predict(train_1)\n",
    "print(\"Accuracy : \", accuracy_score(status_train['status'], tree_predict_train))"
   ]
  },
  {
   "cell_type": "code",
   "execution_count": 30,
   "id": "67a67282",
   "metadata": {},
   "outputs": [
    {
     "name": "stdout",
     "output_type": "stream",
     "text": [
      "Accuracy: 0.9997\n",
      "Precision: 1.0000\n",
      "Recall: 0.9991\n",
      "F1 Score: 0.9995\n",
      "Confusion Matrix:\n",
      "[[2586    0]\n",
      " [   1 1102]]\n"
     ]
    }
   ],
   "source": [
    "from sklearn.metrics import accuracy_score, precision_score, recall_score, f1_score, confusion_matrix\n",
    "\n",
    "# Assuming y_true and y_pred are your true and predicted labels\n",
    "y_true = status_train['status']  # Example true labels\n",
    "y_pred = tree_predict_train  # Example predicted labels\n",
    "\n",
    "# Accuracy\n",
    "accuracy = accuracy_score(y_true, y_pred)\n",
    "print(f'Accuracy: {accuracy:.4f}')\n",
    "\n",
    "# Precision\n",
    "precision = precision_score(y_true, y_pred)\n",
    "print(f'Precision: {precision:.4f}')\n",
    "\n",
    "# Recall\n",
    "recall = recall_score(y_true, y_pred)\n",
    "print(f'Recall: {recall:.4f}')\n",
    "\n",
    "# F1 Score\n",
    "f1 = f1_score(y_true, y_pred)\n",
    "print(f'F1 Score: {f1:.4f}')\n",
    "\n",
    "# Confusion Matrix\n",
    "cm = confusion_matrix(y_true, y_pred)\n",
    "print('Confusion Matrix:')\n",
    "print(cm)"
   ]
  },
  {
   "cell_type": "markdown",
   "id": "afef3873",
   "metadata": {},
   "source": [
    "## Let's see how our model predicts the test data"
   ]
  },
  {
   "cell_type": "code",
   "execution_count": 31,
   "id": "0c176aae",
   "metadata": {},
   "outputs": [
    {
     "name": "stdout",
     "output_type": "stream",
     "text": [
      "Accuracy: 0.8277\n",
      "Precision: 0.7203\n",
      "Recall: 0.6861\n",
      "F1 Score: 0.7028\n",
      "Confusion Matrix:\n",
      "[[576  73]\n",
      " [ 86 188]]\n"
     ]
    }
   ],
   "source": [
    "tree_predict_test = dtree.predict(test_1)\n",
    "y_true = status_test['status']  # Example true labels\n",
    "y_pred = tree_predict_test  # Example predicted labels\n",
    "\n",
    "# Accuracy\n",
    "accuracy_b = accuracy_score(y_true, y_pred)\n",
    "print(f'Accuracy: {accuracy_b:.4f}')\n",
    "\n",
    "# Precision\n",
    "precision_b = precision_score(y_true, y_pred)\n",
    "print(f'Precision: {precision_b:.4f}')\n",
    "\n",
    "# Recall\n",
    "recall_b = recall_score(y_true, y_pred)\n",
    "print(f'Recall: {recall_b:.4f}')\n",
    "\n",
    "# F1 Score\n",
    "f1_b = f1_score(y_true, y_pred)\n",
    "print(f'F1 Score: {f1_b:.4f}')\n",
    "\n",
    "# Confusion Matrix\n",
    "cm_b = confusion_matrix(y_true, y_pred)\n",
    "print('Confusion Matrix:')\n",
    "print(cm_b)\n"
   ]
  },
  {
   "cell_type": "markdown",
   "id": "8bf3be47",
   "metadata": {},
   "source": [
    "Let's look at our decision tree"
   ]
  },
  {
   "cell_type": "code",
   "execution_count": 32,
   "id": "6bef7df3",
   "metadata": {},
   "outputs": [],
   "source": [
    "from sklearn.tree import plot_tree"
   ]
  },
  {
   "cell_type": "code",
   "execution_count": 33,
   "id": "0642fbd7",
   "metadata": {},
   "outputs": [
    {
     "data": {
      "text/plain": [
       "[Text(0.40512048192771083, 0.9285714285714286, 'first_interaction_Website <= 0.5\\ngini = 0.419\\nsamples = 3689\\nvalue = [2586, 1103]\\nclass = Not Converted'),\n",
       " Text(0.14909638554216867, 0.7857142857142857, 'time_spent_on_website <= 419.5\\ngini = 0.189\\nsamples = 1660\\nvalue = [1485, 175]\\nclass = Not Converted'),\n",
       " Text(0.060240963855421686, 0.6428571428571429, 'referral_No <= 0.5\\ngini = 0.013\\nsamples = 916\\nvalue = [910, 6]\\nclass = Not Converted'),\n",
       " Text(0.03614457831325301, 0.5, 'website_visits <= 11.0\\ngini = 0.26\\nsamples = 13\\nvalue = [11, 2]\\nclass = Not Converted'),\n",
       " Text(0.024096385542168676, 0.35714285714285715, 'page_views_per_visit <= 6.371\\ngini = 0.153\\nsamples = 12\\nvalue = [11, 1]\\nclass = Not Converted'),\n",
       " Text(0.012048192771084338, 0.21428571428571427, 'gini = 0.0\\nsamples = 10\\nvalue = [10, 0]\\nclass = Not Converted'),\n",
       " Text(0.03614457831325301, 0.21428571428571427, 'page_views_per_visit <= 9.811\\ngini = 0.5\\nsamples = 2\\nvalue = [1, 1]\\nclass = Not Converted'),\n",
       " Text(0.024096385542168676, 0.07142857142857142, '\\n  (...)  \\n'),\n",
       " Text(0.04819277108433735, 0.07142857142857142, '\\n  (...)  \\n'),\n",
       " Text(0.04819277108433735, 0.35714285714285715, 'gini = 0.0\\nsamples = 1\\nvalue = [0, 1]\\nclass = Converted'),\n",
       " Text(0.08433734939759036, 0.5, 'age <= 24.5\\ngini = 0.009\\nsamples = 903\\nvalue = [899, 4]\\nclass = Not Converted'),\n",
       " Text(0.07228915662650602, 0.35714285714285715, 'last_activity_Email Activity <= 0.5\\ngini = 0.073\\nsamples = 105\\nvalue = [101, 4]\\nclass = Not Converted'),\n",
       " Text(0.060240963855421686, 0.21428571428571427, 'gini = 0.0\\nsamples = 55\\nvalue = [55, 0]\\nclass = Not Converted'),\n",
       " Text(0.08433734939759036, 0.21428571428571427, 'time_spent_on_website <= 150.0\\ngini = 0.147\\nsamples = 50\\nvalue = [46, 4]\\nclass = Not Converted'),\n",
       " Text(0.07228915662650602, 0.07142857142857142, '\\n  (...)  \\n'),\n",
       " Text(0.0963855421686747, 0.07142857142857142, '\\n  (...)  \\n'),\n",
       " Text(0.0963855421686747, 0.35714285714285715, 'gini = 0.0\\nsamples = 798\\nvalue = [798, 0]\\nclass = Not Converted'),\n",
       " Text(0.23795180722891565, 0.6428571428571429, 'last_activity_Website Activity <= 0.5\\ngini = 0.351\\nsamples = 744\\nvalue = [575, 169]\\nclass = Not Converted'),\n",
       " Text(0.1686746987951807, 0.5, 'referral_No <= 0.5\\ngini = 0.284\\nsamples = 567\\nvalue = [470, 97]\\nclass = Not Converted'),\n",
       " Text(0.14457831325301204, 0.35714285714285715, 'age <= 48.5\\ngini = 0.48\\nsamples = 15\\nvalue = [6, 9]\\nclass = Converted'),\n",
       " Text(0.13253012048192772, 0.21428571428571427, 'magazine_No <= 0.5\\ngini = 0.444\\nsamples = 9\\nvalue = [6, 3]\\nclass = Not Converted'),\n",
       " Text(0.12048192771084337, 0.07142857142857142, '\\n  (...)  \\n'),\n",
       " Text(0.14457831325301204, 0.07142857142857142, '\\n  (...)  \\n'),\n",
       " Text(0.1566265060240964, 0.21428571428571427, 'gini = 0.0\\nsamples = 6\\nvalue = [0, 6]\\nclass = Converted'),\n",
       " Text(0.1927710843373494, 0.35714285714285715, 'time_spent_on_website <= 420.5\\ngini = 0.268\\nsamples = 552\\nvalue = [464, 88]\\nclass = Not Converted'),\n",
       " Text(0.18072289156626506, 0.21428571428571427, 'gini = 0.0\\nsamples = 2\\nvalue = [0, 2]\\nclass = Converted'),\n",
       " Text(0.20481927710843373, 0.21428571428571427, 'current_occupation_Unemployed <= 0.5\\ngini = 0.264\\nsamples = 550\\nvalue = [464, 86]\\nclass = Not Converted'),\n",
       " Text(0.1927710843373494, 0.07142857142857142, '\\n  (...)  \\n'),\n",
       " Text(0.21686746987951808, 0.07142857142857142, '\\n  (...)  \\n'),\n",
       " Text(0.3072289156626506, 0.5, 'website_visits <= 3.5\\ngini = 0.483\\nsamples = 177\\nvalue = [105, 72]\\nclass = Not Converted'),\n",
       " Text(0.27710843373493976, 0.35714285714285715, 'current_occupation_Unemployed <= 0.5\\ngini = 0.5\\nsamples = 98\\nvalue = [48, 50]\\nclass = Converted'),\n",
       " Text(0.25301204819277107, 0.21428571428571427, 'time_spent_on_website <= 449.5\\ngini = 0.484\\nsamples = 68\\nvalue = [40, 28]\\nclass = Not Converted'),\n",
       " Text(0.24096385542168675, 0.07142857142857142, '\\n  (...)  \\n'),\n",
       " Text(0.26506024096385544, 0.07142857142857142, '\\n  (...)  \\n'),\n",
       " Text(0.30120481927710846, 0.21428571428571427, 'page_views_per_visit <= 4.98\\ngini = 0.391\\nsamples = 30\\nvalue = [8, 22]\\nclass = Converted'),\n",
       " Text(0.2891566265060241, 0.07142857142857142, '\\n  (...)  \\n'),\n",
       " Text(0.3132530120481928, 0.07142857142857142, '\\n  (...)  \\n'),\n",
       " Text(0.3373493975903614, 0.35714285714285715, 'age <= 31.0\\ngini = 0.402\\nsamples = 79\\nvalue = [57, 22]\\nclass = Not Converted'),\n",
       " Text(0.3253012048192771, 0.21428571428571427, 'gini = 0.0\\nsamples = 14\\nvalue = [14, 0]\\nclass = Not Converted'),\n",
       " Text(0.3493975903614458, 0.21428571428571427, 'page_views_per_visit <= 3.574\\ngini = 0.448\\nsamples = 65\\nvalue = [43, 22]\\nclass = Not Converted'),\n",
       " Text(0.3373493975903614, 0.07142857142857142, '\\n  (...)  \\n'),\n",
       " Text(0.3614457831325301, 0.07142857142857142, '\\n  (...)  \\n'),\n",
       " Text(0.661144578313253, 0.7857142857142857, 'time_spent_on_website <= 415.5\\ngini = 0.496\\nsamples = 2029\\nvalue = [1101, 928]\\nclass = Not Converted'),\n",
       " Text(0.4939759036144578, 0.6428571428571429, 'profile_completed_High <= 0.5\\ngini = 0.375\\nsamples = 1099\\nvalue = [824, 275]\\nclass = Not Converted'),\n",
       " Text(0.42168674698795183, 0.5, 'last_activity_Website Activity <= 0.5\\ngini = 0.057\\nsamples = 581\\nvalue = [564, 17]\\nclass = Not Converted'),\n",
       " Text(0.3855421686746988, 0.35714285714285715, 'profile_completed_Low <= 0.5\\ngini = 0.017\\nsamples = 457\\nvalue = [453, 4]\\nclass = Not Converted'),\n",
       " Text(0.37349397590361444, 0.21428571428571427, 'gini = 0.0\\nsamples = 424\\nvalue = [424, 0]\\nclass = Not Converted'),\n",
       " Text(0.39759036144578314, 0.21428571428571427, 'time_spent_on_website <= 231.5\\ngini = 0.213\\nsamples = 33\\nvalue = [29, 4]\\nclass = Not Converted'),\n",
       " Text(0.3855421686746988, 0.07142857142857142, '\\n  (...)  \\n'),\n",
       " Text(0.40963855421686746, 0.07142857142857142, '\\n  (...)  \\n'),\n",
       " Text(0.4578313253012048, 0.35714285714285715, 'website_visits <= 10.5\\ngini = 0.188\\nsamples = 124\\nvalue = [111, 13]\\nclass = Not Converted'),\n",
       " Text(0.4457831325301205, 0.21428571428571427, 'age <= 22.5\\ngini = 0.164\\nsamples = 122\\nvalue = [111, 11]\\nclass = Not Converted'),\n",
       " Text(0.43373493975903615, 0.07142857142857142, '\\n  (...)  \\n'),\n",
       " Text(0.4578313253012048, 0.07142857142857142, '\\n  (...)  \\n'),\n",
       " Text(0.46987951807228917, 0.21428571428571427, 'gini = 0.0\\nsamples = 2\\nvalue = [0, 2]\\nclass = Converted'),\n",
       " Text(0.5662650602409639, 0.5, 'current_occupation_Professional <= 0.5\\ngini = 0.5\\nsamples = 518\\nvalue = [260, 258]\\nclass = Not Converted'),\n",
       " Text(0.5180722891566265, 0.35714285714285715, 'age <= 37.5\\ngini = 0.395\\nsamples = 229\\nvalue = [167, 62]\\nclass = Not Converted'),\n",
       " Text(0.4939759036144578, 0.21428571428571427, 'time_spent_on_website <= 10.5\\ngini = 0.19\\nsamples = 94\\nvalue = [84, 10]\\nclass = Not Converted'),\n",
       " Text(0.4819277108433735, 0.07142857142857142, '\\n  (...)  \\n'),\n",
       " Text(0.5060240963855421, 0.07142857142857142, '\\n  (...)  \\n'),\n",
       " Text(0.5421686746987951, 0.21428571428571427, 'page_views_per_visit <= 3.559\\ngini = 0.474\\nsamples = 135\\nvalue = [83, 52]\\nclass = Not Converted'),\n",
       " Text(0.5301204819277109, 0.07142857142857142, '\\n  (...)  \\n'),\n",
       " Text(0.5542168674698795, 0.07142857142857142, '\\n  (...)  \\n'),\n",
       " Text(0.6144578313253012, 0.35714285714285715, 'website_visits <= 1.5\\ngini = 0.436\\nsamples = 289\\nvalue = [93, 196]\\nclass = Converted'),\n",
       " Text(0.5903614457831325, 0.21428571428571427, 'time_spent_on_website <= 355.5\\ngini = 0.278\\nsamples = 78\\nvalue = [13, 65]\\nclass = Converted'),\n",
       " Text(0.5783132530120482, 0.07142857142857142, '\\n  (...)  \\n'),\n",
       " Text(0.6024096385542169, 0.07142857142857142, '\\n  (...)  \\n'),\n",
       " Text(0.6385542168674698, 0.21428571428571427, 'page_views_per_visit <= 0.249\\ngini = 0.471\\nsamples = 211\\nvalue = [80, 131]\\nclass = Converted'),\n",
       " Text(0.6265060240963856, 0.07142857142857142, '\\n  (...)  \\n'),\n",
       " Text(0.6506024096385542, 0.07142857142857142, '\\n  (...)  \\n'),\n",
       " Text(0.8283132530120482, 0.6428571428571429, 'last_activity_Phone Activity <= 0.5\\ngini = 0.418\\nsamples = 930\\nvalue = [277, 653]\\nclass = Converted'),\n",
       " Text(0.7530120481927711, 0.5, 'current_occupation_Professional <= 0.5\\ngini = 0.325\\nsamples = 682\\nvalue = [139, 543]\\nclass = Converted'),\n",
       " Text(0.7108433734939759, 0.35714285714285715, 'profile_completed_High <= 0.5\\ngini = 0.485\\nsamples = 300\\nvalue = [124, 176]\\nclass = Converted'),\n",
       " Text(0.6867469879518072, 0.21428571428571427, 'last_activity_Website Activity <= 0.5\\ngini = 0.488\\nsamples = 156\\nvalue = [90, 66]\\nclass = Not Converted'),\n",
       " Text(0.6746987951807228, 0.07142857142857142, '\\n  (...)  \\n'),\n",
       " Text(0.6987951807228916, 0.07142857142857142, '\\n  (...)  \\n'),\n",
       " Text(0.7349397590361446, 0.21428571428571427, 'page_views_per_visit <= 6.839\\ngini = 0.361\\nsamples = 144\\nvalue = [34, 110]\\nclass = Converted'),\n",
       " Text(0.7228915662650602, 0.07142857142857142, '\\n  (...)  \\n'),\n",
       " Text(0.7469879518072289, 0.07142857142857142, '\\n  (...)  \\n'),\n",
       " Text(0.7951807228915663, 0.35714285714285715, 'profile_completed_Low <= 0.5\\ngini = 0.075\\nsamples = 382\\nvalue = [15, 367]\\nclass = Converted'),\n",
       " Text(0.7831325301204819, 0.21428571428571427, 'last_activity_Email Activity <= 0.5\\ngini = 0.047\\nsamples = 376\\nvalue = [9, 367]\\nclass = Converted'),\n",
       " Text(0.7710843373493976, 0.07142857142857142, '\\n  (...)  \\n'),\n",
       " Text(0.7951807228915663, 0.07142857142857142, '\\n  (...)  \\n'),\n",
       " Text(0.8072289156626506, 0.21428571428571427, 'gini = 0.0\\nsamples = 6\\nvalue = [6, 0]\\nclass = Not Converted'),\n",
       " Text(0.9036144578313253, 0.5, 'profile_completed_High <= 0.5\\ngini = 0.494\\nsamples = 248\\nvalue = [138, 110]\\nclass = Not Converted'),\n",
       " Text(0.8554216867469879, 0.35714285714285715, 'time_spent_on_website <= 1948.5\\ngini = 0.27\\nsamples = 112\\nvalue = [94, 18]\\nclass = Not Converted'),\n",
       " Text(0.8313253012048193, 0.21428571428571427, 'page_views_per_visit <= 0.067\\ngini = 0.185\\nsamples = 87\\nvalue = [78, 9]\\nclass = Not Converted'),\n",
       " Text(0.8192771084337349, 0.07142857142857142, '\\n  (...)  \\n'),\n",
       " Text(0.8433734939759037, 0.07142857142857142, '\\n  (...)  \\n'),\n",
       " Text(0.8795180722891566, 0.21428571428571427, 'time_spent_on_website <= 2066.5\\ngini = 0.461\\nsamples = 25\\nvalue = [16, 9]\\nclass = Not Converted'),\n",
       " Text(0.8674698795180723, 0.07142857142857142, '\\n  (...)  \\n'),\n",
       " Text(0.891566265060241, 0.07142857142857142, '\\n  (...)  \\n'),\n",
       " Text(0.9518072289156626, 0.35714285714285715, 'age <= 24.5\\ngini = 0.438\\nsamples = 136\\nvalue = [44, 92]\\nclass = Converted'),\n",
       " Text(0.927710843373494, 0.21428571428571427, 'age <= 18.5\\ngini = 0.208\\nsamples = 17\\nvalue = [15, 2]\\nclass = Not Converted'),\n",
       " Text(0.9156626506024096, 0.07142857142857142, '\\n  (...)  \\n'),\n",
       " Text(0.9397590361445783, 0.07142857142857142, '\\n  (...)  \\n'),\n",
       " Text(0.9759036144578314, 0.21428571428571427, 'page_views_per_visit <= 6.516\\ngini = 0.369\\nsamples = 119\\nvalue = [29, 90]\\nclass = Converted'),\n",
       " Text(0.963855421686747, 0.07142857142857142, '\\n  (...)  \\n'),\n",
       " Text(0.9879518072289156, 0.07142857142857142, '\\n  (...)  \\n')]"
      ]
     },
     "execution_count": 33,
     "metadata": {},
     "output_type": "execute_result"
    },
    {
     "data": {
      "image/png": "[encoded data removed]",
      "text/plain": [
       "<Figure size 2500x1000 with 1 Axes>"
      ]
     },
     "metadata": {},
     "output_type": "display_data"
    }
   ],
   "source": [
    "plt.figure(figsize = (25,10))\n",
    "plot_tree(dtree, filled = True, feature_names = train_1.columns.tolist(), class_names=['Not Converted', 'Converted'], rounded=True, max_depth = 5)"
   ]
  },
  {
   "cell_type": "markdown",
   "id": "357032fd",
   "metadata": {},
   "source": [
    "## Do we need to prune the tree?"
   ]
  },
  {
   "cell_type": "markdown",
   "id": "f1620b43",
   "metadata": {},
   "source": [
    "The decision tree gets pretty out of hand by depth 5. There is also high R-square on the training dataset but very low R-square on the test data. This usually signifies that our model is overfitting and not generalizing to the test data very well. \n",
    "\n",
    "We will examine 3 methods of tree pruning to make the model generalize better:\n",
    "1. Setting a minimum impurity decrease to split\n",
    "2. Limit the tree depth\n",
    "3. Setting a minimum sample per leaf"
   ]
  },
  {
   "cell_type": "markdown",
   "id": "87a762bd",
   "metadata": {},
   "source": [
    "## 1. Minimum_impurity_decrease"
   ]
  },
  {
   "cell_type": "code",
   "execution_count": 34,
   "id": "61e24428",
   "metadata": {},
   "outputs": [
    {
     "data": {
      "text/html": [
       "<style>#sk-container-id-2 {color: black;}#sk-container-id-2 pre{padding: 0;}#sk-container-id-2 div.sk-toggleable {background-color: white;}#sk-container-id-2 label.sk-toggleable__label {cursor: pointer;display: block;width: 100%;margin-bottom: 0;padding: 0.3em;box-sizing: border-box;text-align: center;}#sk-container-id-2 label.sk-toggleable__label-arrow:before {content: \"▸\";float: left;margin-right: 0.25em;color: #696969;}#sk-container-id-2 label.sk-toggleable__label-arrow:hover:before {color: black;}#sk-container-id-2 div.sk-estimator:hover label.sk-toggleable__label-arrow:before {color: black;}#sk-container-id-2 div.sk-toggleable__content {max-height: 0;max-width: 0;overflow: hidden;text-align: left;background-color: #f0f8ff;}#sk-container-id-2 div.sk-toggleable__content pre {margin: 0.2em;color: black;border-radius: 0.25em;background-color: #f0f8ff;}#sk-container-id-2 input.sk-toggleable__control:checked~div.sk-toggleable__content {max-height: 200px;max-width: 100%;overflow: auto;}#sk-container-id-2 input.sk-toggleable__control:checked~label.sk-toggleable__label-arrow:before {content: \"▾\";}#sk-container-id-2 div.sk-estimator input.sk-toggleable__control:checked~label.sk-toggleable__label {background-color: #d4ebff;}#sk-container-id-2 div.sk-label input.sk-toggleable__control:checked~label.sk-toggleable__label {background-color: #d4ebff;}#sk-container-id-2 input.sk-hidden--visually {border: 0;clip: rect(1px 1px 1px 1px);clip: rect(1px, 1px, 1px, 1px);height: 1px;margin: -1px;overflow: hidden;padding: 0;position: absolute;width: 1px;}#sk-container-id-2 div.sk-estimator {font-family: monospace;background-color: #f0f8ff;border: 1px dotted black;border-radius: 0.25em;box-sizing: border-box;margin-bottom: 0.5em;}#sk-container-id-2 div.sk-estimator:hover {background-color: #d4ebff;}#sk-container-id-2 div.sk-parallel-item::after {content: \"\";width: 100%;border-bottom: 1px solid gray;flex-grow: 1;}#sk-container-id-2 div.sk-label:hover label.sk-toggleable__label {background-color: #d4ebff;}#sk-container-id-2 div.sk-serial::before {content: \"\";position: absolute;border-left: 1px solid gray;box-sizing: border-box;top: 0;bottom: 0;left: 50%;z-index: 0;}#sk-container-id-2 div.sk-serial {display: flex;flex-direction: column;align-items: center;background-color: white;padding-right: 0.2em;padding-left: 0.2em;position: relative;}#sk-container-id-2 div.sk-item {position: relative;z-index: 1;}#sk-container-id-2 div.sk-parallel {display: flex;align-items: stretch;justify-content: center;background-color: white;position: relative;}#sk-container-id-2 div.sk-item::before, #sk-container-id-2 div.sk-parallel-item::before {content: \"\";position: absolute;border-left: 1px solid gray;box-sizing: border-box;top: 0;bottom: 0;left: 50%;z-index: -1;}#sk-container-id-2 div.sk-parallel-item {display: flex;flex-direction: column;z-index: 1;position: relative;background-color: white;}#sk-container-id-2 div.sk-parallel-item:first-child::after {align-self: flex-end;width: 50%;}#sk-container-id-2 div.sk-parallel-item:last-child::after {align-self: flex-start;width: 50%;}#sk-container-id-2 div.sk-parallel-item:only-child::after {width: 0;}#sk-container-id-2 div.sk-dashed-wrapped {border: 1px dashed gray;margin: 0 0.4em 0.5em 0.4em;box-sizing: border-box;padding-bottom: 0.4em;background-color: white;}#sk-container-id-2 div.sk-label label {font-family: monospace;font-weight: bold;display: inline-block;line-height: 1.2em;}#sk-container-id-2 div.sk-label-container {text-align: center;}#sk-container-id-2 div.sk-container {/* jupyter's `normalize.less` sets `[hidden] { display: none; }` but bootstrap.min.css set `[hidden] { display: none !important; }` so we also need the `!important` here to be able to override the default hidden behavior on the sphinx rendered scikit-learn.org. See: https://github.com/scikit-learn/scikit-learn/issues/21755 */display: inline-block !important;position: relative;}#sk-container-id-2 div.sk-text-repr-fallback {display: none;}</style><div id=\"sk-container-id-2\" class=\"sk-top-container\"><div class=\"sk-text-repr-fallback\"><pre>DecisionTreeClassifier(min_impurity_decrease=0.0005, random_state=42)</pre><b>In a Jupyter environment, please rerun this cell to show the HTML representation or trust the notebook. <br />On GitHub, the HTML representation is unable to render, please try loading this page with nbviewer.org.</b></div><div class=\"sk-container\" hidden><div class=\"sk-item\"><div class=\"sk-estimator sk-toggleable\"><input class=\"sk-toggleable__control sk-hidden--visually\" id=\"sk-estimator-id-2\" type=\"checkbox\" checked><label for=\"sk-estimator-id-2\" class=\"sk-toggleable__label sk-toggleable__label-arrow\">DecisionTreeClassifier</label><div class=\"sk-toggleable__content\"><pre>DecisionTreeClassifier(min_impurity_decrease=0.0005, random_state=42)</pre></div></div></div></div></div>"
      ],
      "text/plain": [
       "DecisionTreeClassifier(min_impurity_decrease=0.0005, random_state=42)"
      ]
     },
     "execution_count": 34,
     "metadata": {},
     "output_type": "execute_result"
    }
   ],
   "source": [
    "dtree_min_impurity = DecisionTreeClassifier(random_state = 42, min_impurity_decrease= 0.0005)\n",
    "dtree_min_impurity.fit(train_1, status_train)"
   ]
  },
  {
   "cell_type": "code",
   "execution_count": 35,
   "id": "51843c68",
   "metadata": {},
   "outputs": [
    {
     "name": "stdout",
     "output_type": "stream",
     "text": [
      "Train Accuracy :  0.8986175115207373\n",
      "-------------------------------------------------\n",
      "Test Accuracy :  0.8689057421451788\n"
     ]
    }
   ],
   "source": [
    "tree_predict_train = dtree_min_impurity.predict(train_1)\n",
    "print(\"Train Accuracy : \", accuracy_score(status_train['status'], tree_predict_train))\n",
    "\n",
    "print('-------------------------------------------------')\n",
    "\n",
    "tree_predict_test = dtree_min_impurity.predict(test_1)\n",
    "print(\"Test Accuracy : \", accuracy_score(status_test, tree_predict_test))"
   ]
  },
  {
   "cell_type": "code",
   "execution_count": 36,
   "id": "e57eee44",
   "metadata": {},
   "outputs": [
    {
     "name": "stdout",
     "output_type": "stream",
     "text": [
      "Accuracy: 0.8689\n",
      "Precision: 0.8097\n",
      "Recall: 0.7299\n",
      "F1 Score: 0.7678\n",
      "Confusion Matrix:\n",
      "[[602  47]\n",
      " [ 74 200]]\n"
     ]
    }
   ],
   "source": [
    "y_true = status_test['status']  # Example true labels\n",
    "y_pred = tree_predict_test  # Example predicted labels\n",
    "\n",
    "# Accuracy\n",
    "accuracy_1 = accuracy_score(y_true, y_pred)\n",
    "print(f'Accuracy: {accuracy_1:.4f}')\n",
    "\n",
    "# Precision\n",
    "precision_1 = precision_score(y_true, y_pred)\n",
    "print(f'Precision: {precision_1:.4f}')\n",
    "\n",
    "# Recall\n",
    "recall_1 = recall_score(y_true, y_pred)\n",
    "print(f'Recall: {recall_1:.4f}')\n",
    "\n",
    "# F1 Score\n",
    "f1_1 = f1_score(y_true, y_pred)\n",
    "print(f'F1 Score: {f1_1:.4f}')\n",
    "\n",
    "# Confusion Matrix\n",
    "cm_1 = confusion_matrix(y_true, y_pred)\n",
    "print('Confusion Matrix:')\n",
    "print(cm_1)"
   ]
  },
  {
   "cell_type": "markdown",
   "id": "2f2687ae",
   "metadata": {},
   "source": [
    "## 2. Limit Tree Depth"
   ]
  },
  {
   "cell_type": "code",
   "execution_count": 37,
   "id": "46224258",
   "metadata": {},
   "outputs": [
    {
     "name": "stdout",
     "output_type": "stream",
     "text": [
      "Accuracy :  0.9842775820005422\n",
      "Test Data ----------------------------------\n",
      "Accuracy :  0.8320693391115926\n"
     ]
    }
   ],
   "source": [
    "dtree_tree_depth = DecisionTreeClassifier(random_state = 42, max_depth=15)\n",
    "dtree_tree_depth.fit(train_1, status_train)\n",
    "\n",
    "tree_predict_train = dtree_tree_depth.predict(train_1)\n",
    "print(\"Accuracy : \", accuracy_score(status_train['status'], tree_predict_train))\n",
    "\n",
    "print('Test Data ----------------------------------')\n",
    "\n",
    "tree_predict_test = dtree_tree_depth.predict(test_1)\n",
    "print(\"Accuracy : \", accuracy_score(status_test, tree_predict_test))"
   ]
  },
  {
   "cell_type": "code",
   "execution_count": 38,
   "id": "0ba41041",
   "metadata": {},
   "outputs": [
    {
     "name": "stdout",
     "output_type": "stream",
     "text": [
      "Accuracy: 0.8321\n",
      "Precision: 0.7212\n",
      "Recall: 0.7080\n",
      "F1 Score: 0.7145\n",
      "Confusion Matrix:\n",
      "[[574  75]\n",
      " [ 80 194]]\n"
     ]
    }
   ],
   "source": [
    "y_true = status_test['status']  # Example true labels\n",
    "y_pred = tree_predict_test  # Example predicted labels\n",
    "\n",
    "# Accuracy\n",
    "accuracy_2 = accuracy_score(y_true, y_pred)\n",
    "print(f'Accuracy: {accuracy_2:.4f}')\n",
    "\n",
    "# Precision\n",
    "precision_2 = precision_score(y_true, y_pred)\n",
    "print(f'Precision: {precision_2:.4f}')\n",
    "\n",
    "# Recall\n",
    "recall_2 = recall_score(y_true, y_pred)\n",
    "print(f'Recall: {recall_2:.4f}')\n",
    "\n",
    "# F1 Score\n",
    "f1_2 = f1_score(y_true, y_pred)\n",
    "print(f'F1 Score: {f1_2:.4f}')\n",
    "\n",
    "# Confusion Matrix\n",
    "cm_2 = confusion_matrix(y_true, y_pred)\n",
    "print('Confusion Matrix:')\n",
    "print(cm_2)"
   ]
  },
  {
   "cell_type": "markdown",
   "id": "66381cf2",
   "metadata": {},
   "source": [
    "## 3. Minimum Samples Per Leaf"
   ]
  },
  {
   "cell_type": "code",
   "execution_count": 39,
   "id": "7ef5a06c",
   "metadata": {},
   "outputs": [
    {
     "name": "stdout",
     "output_type": "stream",
     "text": [
      "Train Accuracy :  0.8942802927622662\n",
      "-------------------------------------------------\n",
      "Test Accuracy :  0.8515709642470206\n"
     ]
    }
   ],
   "source": [
    "dtree_min_leaf = DecisionTreeClassifier(random_state = 42, min_samples_leaf=10)\n",
    "dtree_min_leaf.fit(train_1, status_train)\n",
    "\n",
    "tree_predict_train = dtree_min_leaf.predict(train_1)\n",
    "print(\"Train Accuracy : \", accuracy_score(status_train['status'], tree_predict_train))\n",
    "\n",
    "print('-------------------------------------------------')\n",
    "\n",
    "tree_predict_test = dtree_min_leaf.predict(test_1)\n",
    "print(\"Test Accuracy : \", accuracy_score(status_test, tree_predict_test))"
   ]
  },
  {
   "cell_type": "code",
   "execution_count": 40,
   "id": "aa2f909c",
   "metadata": {},
   "outputs": [
    {
     "name": "stdout",
     "output_type": "stream",
     "text": [
      "Accuracy: 0.8516\n",
      "Precision: 0.8018\n",
      "Recall: 0.6642\n",
      "F1 Score: 0.7265\n",
      "Confusion Matrix:\n",
      "[[604  45]\n",
      " [ 92 182]]\n"
     ]
    }
   ],
   "source": [
    "y_true = status_test['status']  # Example true labels\n",
    "y_pred = tree_predict_test  # Example predicted labels\n",
    "\n",
    "# Accuracy\n",
    "accuracy_3 = accuracy_score(y_true, y_pred)\n",
    "print(f'Accuracy: {accuracy_3:.4f}')\n",
    "\n",
    "# Precision\n",
    "precision_3 = precision_score(y_true, y_pred)\n",
    "print(f'Precision: {precision_3:.4f}')\n",
    "\n",
    "# Recall\n",
    "recall_3 = recall_score(y_true, y_pred)\n",
    "print(f'Recall: {recall_3:.4f}')\n",
    "\n",
    "# F1 Score\n",
    "f1_3 = f1_score(y_true, y_pred)\n",
    "print(f'F1 Score: {f1_3:.4f}')\n",
    "\n",
    "# Confusion Matrix\n",
    "cm_3 = confusion_matrix(y_true, y_pred)\n",
    "print('Confusion Matrix:')\n",
    "print(cm_3)"
   ]
  },
  {
   "cell_type": "markdown",
   "id": "e557070b",
   "metadata": {},
   "source": [
    "## Post Pruning Methods\n",
    "1. cc_alpha\n",
    "2. Feature importance"
   ]
  },
  {
   "cell_type": "markdown",
   "id": "d222dd1b",
   "metadata": {},
   "source": [
    "## 1. cc_alpha"
   ]
  },
  {
   "cell_type": "code",
   "execution_count": 41,
   "id": "49d9c5d1",
   "metadata": {},
   "outputs": [
    {
     "name": "stdout",
     "output_type": "stream",
     "text": [
      "Train Accuracy :  0.8883166169693684\n",
      "Test Data ----------------------------------\n",
      "Test Accuracy :  0.8678223185265439\n"
     ]
    }
   ],
   "source": [
    "dtree_cc_alpha = DecisionTreeClassifier(random_state = 42, ccp_alpha= 0.0008)\n",
    "dtree_cc_alpha.fit(train_1, status_train)\n",
    "\n",
    "tree_predict_train = dtree_cc_alpha.predict(train_1)\n",
    "print(\"Train Accuracy : \", accuracy_score(status_train['status'], tree_predict_train))\n",
    "\n",
    "print('Test Data ----------------------------------')\n",
    "\n",
    "tree_predict_test = dtree_cc_alpha.predict(test_1)\n",
    "print(\"Test Accuracy : \", accuracy_score(status_test, tree_predict_test))"
   ]
  },
  {
   "cell_type": "code",
   "execution_count": 42,
   "id": "aa3c08a0",
   "metadata": {},
   "outputs": [
    {
     "name": "stdout",
     "output_type": "stream",
     "text": [
      "Accuracy: 0.8678\n",
      "Precision: 0.8193\n",
      "Recall: 0.7117\n",
      "F1 Score: 0.7617\n",
      "Confusion Matrix:\n",
      "[[606  43]\n",
      " [ 79 195]]\n"
     ]
    }
   ],
   "source": [
    "y_true = status_test['status']  # Example true labels\n",
    "y_pred = tree_predict_test  # Example predicted labels\n",
    "\n",
    "# Accuracy\n",
    "accuracy_4 = accuracy_score(y_true, y_pred)\n",
    "print(f'Accuracy: {accuracy_4:.4f}')\n",
    "\n",
    "# Precision\n",
    "precision_4 = precision_score(y_true, y_pred)\n",
    "print(f'Precision: {precision_4:.4f}')\n",
    "\n",
    "# Recall\n",
    "recall_4 = recall_score(y_true, y_pred)\n",
    "print(f'Recall: {recall_4:.4f}')\n",
    "\n",
    "# F1 Score\n",
    "f1_4 = f1_score(y_true, y_pred)\n",
    "print(f'F1 Score: {f1_4:.4f}')\n",
    "\n",
    "# Confusion Matrix\n",
    "cm_4 = confusion_matrix(y_true, y_pred)\n",
    "print('Confusion Matrix:')\n",
    "print(cm_4)"
   ]
  },
  {
   "cell_type": "markdown",
   "id": "db2d95e5",
   "metadata": {},
   "source": [
    "## Results:"
   ]
  },
  {
   "cell_type": "code",
   "execution_count": 43,
   "id": "23ca1e3a",
   "metadata": {},
   "outputs": [],
   "source": [
    "index = ['Accuracy', 'Precision', 'Recall','F1 Score','Confusion Matrix']\n",
    "data = [[accuracy_b, accuracy_1, accuracy_2, accuracy_3, accuracy_4], [precision_b, precision_1, precision_2, precision_3, precision_4], [recall_b, recall_1, recall_2, recall_3, recall_4], [f1_b, f1_1, f1_2, f1_3, f1_4], [cm_b, cm_1, cm_2, cm_3, cm_4]]\n",
    "columns = ['normal tree' , 'min impurity', 'max depth', 'min leaf', 'cc_alpha']\n",
    "\n",
    "results = pd.DataFrame(data = data, columns = columns, index = index)"
   ]
  },
  {
   "cell_type": "code",
   "execution_count": 44,
   "id": "d13bdfcd",
   "metadata": {},
   "outputs": [
    {
     "name": "stdout",
     "output_type": "stream",
     "text": [
      "              Accuracy Precision    Recall  F1 Score        Confusion Matrix\n",
      "normal tree   0.827736  0.720307  0.686131  0.702804  [[576, 73], [86, 188]]\n",
      "min impurity  0.868906  0.809717  0.729927  0.767754  [[602, 47], [74, 200]]\n",
      "max depth     0.832069   0.72119  0.708029  0.714549  [[574, 75], [80, 194]]\n",
      "min leaf      0.851571  0.801762  0.664234  0.726547  [[604, 45], [92, 182]]\n",
      "cc_alpha      0.867822  0.819328  0.711679  0.761719  [[606, 43], [79, 195]]\n"
     ]
    }
   ],
   "source": [
    "print(results.T)"
   ]
  },
  {
   "cell_type": "markdown",
   "id": "d5c3a24f",
   "metadata": {},
   "source": [
    "we'll go with the cc_alpha tree since it perofrms better than the standard tree"
   ]
  },
  {
   "cell_type": "code",
   "execution_count": 45,
   "id": "86aa5497",
   "metadata": {},
   "outputs": [
    {
     "name": "stdout",
     "output_type": "stream",
     "text": [
      "age: 0.04032897844065748\n",
      "website_visits: 0.014092425183404563\n",
      "time_spent_on_website: 0.2901640273277934\n",
      "page_views_per_visit: 0.026340122078463743\n",
      "current_occupation_Professional: 0.09623327100144954\n",
      "current_occupation_Student: 0.0\n",
      "current_occupation_Unemployed: 0.004631668035174548\n",
      "first_interaction_Mobile App: 0.0\n",
      "first_interaction_Website: 0.24334403682683517\n",
      "profile_completed_High: 0.18337428538141443\n",
      "profile_completed_Low: 0.012106487560638075\n",
      "profile_completed_Medium: 0.0\n",
      "last_activity_Email Activity: 0.0\n",
      "last_activity_Phone Activity: 0.048663182542283655\n",
      "last_activity_Website Activity: 0.026928196492729005\n",
      "newspaper_No: 0.0\n",
      "newspaper_Yes: 0.0\n",
      "magazine_No: 0.0\n",
      "magazine_Yes: 0.0\n",
      "digital_media_No: 0.0030336735154210715\n",
      "digital_media_Yes: 0.0\n",
      "educational_channels_No: 0.0\n",
      "educational_channels_Yes: 0.004660313907052358\n",
      "referral_No: 0.006099331706682926\n",
      "referral_Yes: 0.0\n"
     ]
    }
   ],
   "source": [
    "feature_importance = dtree_cc_alpha.feature_importances_\n",
    "column_names = train_1.columns\n",
    "for column, importance in zip(column_names, feature_importance):\n",
    "    print(f\"{column}: {importance}\")"
   ]
  },
  {
   "cell_type": "code",
   "execution_count": 46,
   "id": "bc549c7c",
   "metadata": {},
   "outputs": [],
   "source": [
    "feat_imp = pd.DataFrame({'Feature': column_names, 'Feature Importance' : feature_importance})\n",
    "sorted = feat_imp.sort_values(by = 'Feature Importance', ascending= False)"
   ]
  },
  {
   "cell_type": "code",
   "execution_count": 47,
   "id": "91e075db",
   "metadata": {},
   "outputs": [],
   "source": [
    "# Define a function to apply custom formatting based on significance\n",
    "def highlight_significant(value):\n",
    "    threshold = 0.04  # Adjust this threshold as needed\n",
    "    return f\"background-color: {'blue' if abs(value) >= threshold else ''}\""
   ]
  },
  {
   "cell_type": "code",
   "execution_count": 48,
   "id": "501607b9",
   "metadata": {},
   "outputs": [
    {
     "data": {
      "text/html": [
       "<style type=\"text/css\">\n",
       "#T_d45e7_row0_col1, #T_d45e7_row1_col1, #T_d45e7_row2_col1, #T_d45e7_row3_col1, #T_d45e7_row4_col1, #T_d45e7_row5_col1 {\n",
       "  background-color: blue;\n",
       "}\n",
       "#T_d45e7_row6_col1, #T_d45e7_row7_col1, #T_d45e7_row8_col1, #T_d45e7_row9_col1, #T_d45e7_row10_col1, #T_d45e7_row11_col1, #T_d45e7_row12_col1, #T_d45e7_row13_col1, #T_d45e7_row14_col1, #T_d45e7_row15_col1, #T_d45e7_row16_col1, #T_d45e7_row17_col1, #T_d45e7_row18_col1, #T_d45e7_row19_col1, #T_d45e7_row20_col1, #T_d45e7_row21_col1, #T_d45e7_row22_col1, #T_d45e7_row23_col1, #T_d45e7_row24_col1 {\n",
       "  background-color: ;\n",
       "}\n",
       "</style>\n",
       "<table id=\"T_d45e7\">\n",
       "  <thead>\n",
       "    <tr>\n",
       "      <th class=\"blank level0\" >&nbsp;</th>\n",
       "      <th id=\"T_d45e7_level0_col0\" class=\"col_heading level0 col0\" >Feature</th>\n",
       "      <th id=\"T_d45e7_level0_col1\" class=\"col_heading level0 col1\" >Feature Importance</th>\n",
       "    </tr>\n",
       "  </thead>\n",
       "  <tbody>\n",
       "    <tr>\n",
       "      <th id=\"T_d45e7_level0_row0\" class=\"row_heading level0 row0\" >2</th>\n",
       "      <td id=\"T_d45e7_row0_col0\" class=\"data row0 col0\" >time_spent_on_website</td>\n",
       "      <td id=\"T_d45e7_row0_col1\" class=\"data row0 col1\" >0.290164</td>\n",
       "    </tr>\n",
       "    <tr>\n",
       "      <th id=\"T_d45e7_level0_row1\" class=\"row_heading level0 row1\" >8</th>\n",
       "      <td id=\"T_d45e7_row1_col0\" class=\"data row1 col0\" >first_interaction_Website</td>\n",
       "      <td id=\"T_d45e7_row1_col1\" class=\"data row1 col1\" >0.243344</td>\n",
       "    </tr>\n",
       "    <tr>\n",
       "      <th id=\"T_d45e7_level0_row2\" class=\"row_heading level0 row2\" >9</th>\n",
       "      <td id=\"T_d45e7_row2_col0\" class=\"data row2 col0\" >profile_completed_High</td>\n",
       "      <td id=\"T_d45e7_row2_col1\" class=\"data row2 col1\" >0.183374</td>\n",
       "    </tr>\n",
       "    <tr>\n",
       "      <th id=\"T_d45e7_level0_row3\" class=\"row_heading level0 row3\" >4</th>\n",
       "      <td id=\"T_d45e7_row3_col0\" class=\"data row3 col0\" >current_occupation_Professional</td>\n",
       "      <td id=\"T_d45e7_row3_col1\" class=\"data row3 col1\" >0.096233</td>\n",
       "    </tr>\n",
       "    <tr>\n",
       "      <th id=\"T_d45e7_level0_row4\" class=\"row_heading level0 row4\" >13</th>\n",
       "      <td id=\"T_d45e7_row4_col0\" class=\"data row4 col0\" >last_activity_Phone Activity</td>\n",
       "      <td id=\"T_d45e7_row4_col1\" class=\"data row4 col1\" >0.048663</td>\n",
       "    </tr>\n",
       "    <tr>\n",
       "      <th id=\"T_d45e7_level0_row5\" class=\"row_heading level0 row5\" >0</th>\n",
       "      <td id=\"T_d45e7_row5_col0\" class=\"data row5 col0\" >age</td>\n",
       "      <td id=\"T_d45e7_row5_col1\" class=\"data row5 col1\" >0.040329</td>\n",
       "    </tr>\n",
       "    <tr>\n",
       "      <th id=\"T_d45e7_level0_row6\" class=\"row_heading level0 row6\" >14</th>\n",
       "      <td id=\"T_d45e7_row6_col0\" class=\"data row6 col0\" >last_activity_Website Activity</td>\n",
       "      <td id=\"T_d45e7_row6_col1\" class=\"data row6 col1\" >0.026928</td>\n",
       "    </tr>\n",
       "    <tr>\n",
       "      <th id=\"T_d45e7_level0_row7\" class=\"row_heading level0 row7\" >3</th>\n",
       "      <td id=\"T_d45e7_row7_col0\" class=\"data row7 col0\" >page_views_per_visit</td>\n",
       "      <td id=\"T_d45e7_row7_col1\" class=\"data row7 col1\" >0.026340</td>\n",
       "    </tr>\n",
       "    <tr>\n",
       "      <th id=\"T_d45e7_level0_row8\" class=\"row_heading level0 row8\" >1</th>\n",
       "      <td id=\"T_d45e7_row8_col0\" class=\"data row8 col0\" >website_visits</td>\n",
       "      <td id=\"T_d45e7_row8_col1\" class=\"data row8 col1\" >0.014092</td>\n",
       "    </tr>\n",
       "    <tr>\n",
       "      <th id=\"T_d45e7_level0_row9\" class=\"row_heading level0 row9\" >10</th>\n",
       "      <td id=\"T_d45e7_row9_col0\" class=\"data row9 col0\" >profile_completed_Low</td>\n",
       "      <td id=\"T_d45e7_row9_col1\" class=\"data row9 col1\" >0.012106</td>\n",
       "    </tr>\n",
       "    <tr>\n",
       "      <th id=\"T_d45e7_level0_row10\" class=\"row_heading level0 row10\" >23</th>\n",
       "      <td id=\"T_d45e7_row10_col0\" class=\"data row10 col0\" >referral_No</td>\n",
       "      <td id=\"T_d45e7_row10_col1\" class=\"data row10 col1\" >0.006099</td>\n",
       "    </tr>\n",
       "    <tr>\n",
       "      <th id=\"T_d45e7_level0_row11\" class=\"row_heading level0 row11\" >22</th>\n",
       "      <td id=\"T_d45e7_row11_col0\" class=\"data row11 col0\" >educational_channels_Yes</td>\n",
       "      <td id=\"T_d45e7_row11_col1\" class=\"data row11 col1\" >0.004660</td>\n",
       "    </tr>\n",
       "    <tr>\n",
       "      <th id=\"T_d45e7_level0_row12\" class=\"row_heading level0 row12\" >6</th>\n",
       "      <td id=\"T_d45e7_row12_col0\" class=\"data row12 col0\" >current_occupation_Unemployed</td>\n",
       "      <td id=\"T_d45e7_row12_col1\" class=\"data row12 col1\" >0.004632</td>\n",
       "    </tr>\n",
       "    <tr>\n",
       "      <th id=\"T_d45e7_level0_row13\" class=\"row_heading level0 row13\" >19</th>\n",
       "      <td id=\"T_d45e7_row13_col0\" class=\"data row13 col0\" >digital_media_No</td>\n",
       "      <td id=\"T_d45e7_row13_col1\" class=\"data row13 col1\" >0.003034</td>\n",
       "    </tr>\n",
       "    <tr>\n",
       "      <th id=\"T_d45e7_level0_row14\" class=\"row_heading level0 row14\" >18</th>\n",
       "      <td id=\"T_d45e7_row14_col0\" class=\"data row14 col0\" >magazine_Yes</td>\n",
       "      <td id=\"T_d45e7_row14_col1\" class=\"data row14 col1\" >0.000000</td>\n",
       "    </tr>\n",
       "    <tr>\n",
       "      <th id=\"T_d45e7_level0_row15\" class=\"row_heading level0 row15\" >21</th>\n",
       "      <td id=\"T_d45e7_row15_col0\" class=\"data row15 col0\" >educational_channels_No</td>\n",
       "      <td id=\"T_d45e7_row15_col1\" class=\"data row15 col1\" >0.000000</td>\n",
       "    </tr>\n",
       "    <tr>\n",
       "      <th id=\"T_d45e7_level0_row16\" class=\"row_heading level0 row16\" >20</th>\n",
       "      <td id=\"T_d45e7_row16_col0\" class=\"data row16 col0\" >digital_media_Yes</td>\n",
       "      <td id=\"T_d45e7_row16_col1\" class=\"data row16 col1\" >0.000000</td>\n",
       "    </tr>\n",
       "    <tr>\n",
       "      <th id=\"T_d45e7_level0_row17\" class=\"row_heading level0 row17\" >12</th>\n",
       "      <td id=\"T_d45e7_row17_col0\" class=\"data row17 col0\" >last_activity_Email Activity</td>\n",
       "      <td id=\"T_d45e7_row17_col1\" class=\"data row17 col1\" >0.000000</td>\n",
       "    </tr>\n",
       "    <tr>\n",
       "      <th id=\"T_d45e7_level0_row18\" class=\"row_heading level0 row18\" >17</th>\n",
       "      <td id=\"T_d45e7_row18_col0\" class=\"data row18 col0\" >magazine_No</td>\n",
       "      <td id=\"T_d45e7_row18_col1\" class=\"data row18 col1\" >0.000000</td>\n",
       "    </tr>\n",
       "    <tr>\n",
       "      <th id=\"T_d45e7_level0_row19\" class=\"row_heading level0 row19\" >16</th>\n",
       "      <td id=\"T_d45e7_row19_col0\" class=\"data row19 col0\" >newspaper_Yes</td>\n",
       "      <td id=\"T_d45e7_row19_col1\" class=\"data row19 col1\" >0.000000</td>\n",
       "    </tr>\n",
       "    <tr>\n",
       "      <th id=\"T_d45e7_level0_row20\" class=\"row_heading level0 row20\" >15</th>\n",
       "      <td id=\"T_d45e7_row20_col0\" class=\"data row20 col0\" >newspaper_No</td>\n",
       "      <td id=\"T_d45e7_row20_col1\" class=\"data row20 col1\" >0.000000</td>\n",
       "    </tr>\n",
       "    <tr>\n",
       "      <th id=\"T_d45e7_level0_row21\" class=\"row_heading level0 row21\" >11</th>\n",
       "      <td id=\"T_d45e7_row21_col0\" class=\"data row21 col0\" >profile_completed_Medium</td>\n",
       "      <td id=\"T_d45e7_row21_col1\" class=\"data row21 col1\" >0.000000</td>\n",
       "    </tr>\n",
       "    <tr>\n",
       "      <th id=\"T_d45e7_level0_row22\" class=\"row_heading level0 row22\" >7</th>\n",
       "      <td id=\"T_d45e7_row22_col0\" class=\"data row22 col0\" >first_interaction_Mobile App</td>\n",
       "      <td id=\"T_d45e7_row22_col1\" class=\"data row22 col1\" >0.000000</td>\n",
       "    </tr>\n",
       "    <tr>\n",
       "      <th id=\"T_d45e7_level0_row23\" class=\"row_heading level0 row23\" >5</th>\n",
       "      <td id=\"T_d45e7_row23_col0\" class=\"data row23 col0\" >current_occupation_Student</td>\n",
       "      <td id=\"T_d45e7_row23_col1\" class=\"data row23 col1\" >0.000000</td>\n",
       "    </tr>\n",
       "    <tr>\n",
       "      <th id=\"T_d45e7_level0_row24\" class=\"row_heading level0 row24\" >24</th>\n",
       "      <td id=\"T_d45e7_row24_col0\" class=\"data row24 col0\" >referral_Yes</td>\n",
       "      <td id=\"T_d45e7_row24_col1\" class=\"data row24 col1\" >0.000000</td>\n",
       "    </tr>\n",
       "  </tbody>\n",
       "</table>\n"
      ],
      "text/plain": [
       "<pandas.io.formats.style.Styler at 0x1dc1e867750>"
      ]
     },
     "execution_count": 48,
     "metadata": {},
     "output_type": "execute_result"
    }
   ],
   "source": [
    "# Apply the custom formatting to the 'Feature Importance' column\n",
    "styled_df = sorted.style.applymap(highlight_significant, subset=['Feature Importance'])\n",
    "\n",
    "# Display the styled DataFrame\n",
    "styled_df"
   ]
  },
  {
   "cell_type": "markdown",
   "id": "ambient-elements",
   "metadata": {
    "id": "ambient-elements"
   },
   "source": [
    "## The top contributors to leads based on decision tree are:\n",
    "1. Time spent on website\n",
    "2. First interaction with website\n",
    "3. Fully completed profile\n",
    "4. Professional Occupation\n",
    "5. Last phone activity\n",
    "6. Age (30 - 65 yrs)"
   ]
  },
  {
   "cell_type": "markdown",
   "id": "a8c47c07",
   "metadata": {
    "id": "amazing-fluid"
   },
   "source": [
    "## Building a Random Forest model"
   ]
  },
  {
   "cell_type": "markdown",
   "id": "204316b9",
   "metadata": {},
   "source": [
    "TRAIN - train_1 & status_train  \n",
    "TEST - test_1  & status_test\n"
   ]
  },
  {
   "cell_type": "code",
   "execution_count": 49,
   "id": "8bbd87fb",
   "metadata": {},
   "outputs": [],
   "source": [
    "from sklearn.ensemble import RandomForestClassifier"
   ]
  },
  {
   "cell_type": "code",
   "execution_count": 50,
   "id": "cf7a4bbd",
   "metadata": {},
   "outputs": [],
   "source": [
    "r_forest = RandomForestClassifier(random_state=42)"
   ]
  },
  {
   "cell_type": "code",
   "execution_count": 51,
   "id": "db528641",
   "metadata": {},
   "outputs": [
    {
     "name": "stderr",
     "output_type": "stream",
     "text": [
      "c:\\Users\\19738\\AppData\\Local\\Programs\\Python\\Python311\\Lib\\site-packages\\sklearn\\base.py:1151: DataConversionWarning: A column-vector y was passed when a 1d array was expected. Please change the shape of y to (n_samples,), for example using ravel().\n",
      "  return fit_method(estimator, *args, **kwargs)\n"
     ]
    },
    {
     "data": {
      "text/html": [
       "<style>#sk-container-id-3 {color: black;}#sk-container-id-3 pre{padding: 0;}#sk-container-id-3 div.sk-toggleable {background-color: white;}#sk-container-id-3 label.sk-toggleable__label {cursor: pointer;display: block;width: 100%;margin-bottom: 0;padding: 0.3em;box-sizing: border-box;text-align: center;}#sk-container-id-3 label.sk-toggleable__label-arrow:before {content: \"▸\";float: left;margin-right: 0.25em;color: #696969;}#sk-container-id-3 label.sk-toggleable__label-arrow:hover:before {color: black;}#sk-container-id-3 div.sk-estimator:hover label.sk-toggleable__label-arrow:before {color: black;}#sk-container-id-3 div.sk-toggleable__content {max-height: 0;max-width: 0;overflow: hidden;text-align: left;background-color: #f0f8ff;}#sk-container-id-3 div.sk-toggleable__content pre {margin: 0.2em;color: black;border-radius: 0.25em;background-color: #f0f8ff;}#sk-container-id-3 input.sk-toggleable__control:checked~div.sk-toggleable__content {max-height: 200px;max-width: 100%;overflow: auto;}#sk-container-id-3 input.sk-toggleable__control:checked~label.sk-toggleable__label-arrow:before {content: \"▾\";}#sk-container-id-3 div.sk-estimator input.sk-toggleable__control:checked~label.sk-toggleable__label {background-color: #d4ebff;}#sk-container-id-3 div.sk-label input.sk-toggleable__control:checked~label.sk-toggleable__label {background-color: #d4ebff;}#sk-container-id-3 input.sk-hidden--visually {border: 0;clip: rect(1px 1px 1px 1px);clip: rect(1px, 1px, 1px, 1px);height: 1px;margin: -1px;overflow: hidden;padding: 0;position: absolute;width: 1px;}#sk-container-id-3 div.sk-estimator {font-family: monospace;background-color: #f0f8ff;border: 1px dotted black;border-radius: 0.25em;box-sizing: border-box;margin-bottom: 0.5em;}#sk-container-id-3 div.sk-estimator:hover {background-color: #d4ebff;}#sk-container-id-3 div.sk-parallel-item::after {content: \"\";width: 100%;border-bottom: 1px solid gray;flex-grow: 1;}#sk-container-id-3 div.sk-label:hover label.sk-toggleable__label {background-color: #d4ebff;}#sk-container-id-3 div.sk-serial::before {content: \"\";position: absolute;border-left: 1px solid gray;box-sizing: border-box;top: 0;bottom: 0;left: 50%;z-index: 0;}#sk-container-id-3 div.sk-serial {display: flex;flex-direction: column;align-items: center;background-color: white;padding-right: 0.2em;padding-left: 0.2em;position: relative;}#sk-container-id-3 div.sk-item {position: relative;z-index: 1;}#sk-container-id-3 div.sk-parallel {display: flex;align-items: stretch;justify-content: center;background-color: white;position: relative;}#sk-container-id-3 div.sk-item::before, #sk-container-id-3 div.sk-parallel-item::before {content: \"\";position: absolute;border-left: 1px solid gray;box-sizing: border-box;top: 0;bottom: 0;left: 50%;z-index: -1;}#sk-container-id-3 div.sk-parallel-item {display: flex;flex-direction: column;z-index: 1;position: relative;background-color: white;}#sk-container-id-3 div.sk-parallel-item:first-child::after {align-self: flex-end;width: 50%;}#sk-container-id-3 div.sk-parallel-item:last-child::after {align-self: flex-start;width: 50%;}#sk-container-id-3 div.sk-parallel-item:only-child::after {width: 0;}#sk-container-id-3 div.sk-dashed-wrapped {border: 1px dashed gray;margin: 0 0.4em 0.5em 0.4em;box-sizing: border-box;padding-bottom: 0.4em;background-color: white;}#sk-container-id-3 div.sk-label label {font-family: monospace;font-weight: bold;display: inline-block;line-height: 1.2em;}#sk-container-id-3 div.sk-label-container {text-align: center;}#sk-container-id-3 div.sk-container {/* jupyter's `normalize.less` sets `[hidden] { display: none; }` but bootstrap.min.css set `[hidden] { display: none !important; }` so we also need the `!important` here to be able to override the default hidden behavior on the sphinx rendered scikit-learn.org. See: https://github.com/scikit-learn/scikit-learn/issues/21755 */display: inline-block !important;position: relative;}#sk-container-id-3 div.sk-text-repr-fallback {display: none;}</style><div id=\"sk-container-id-3\" class=\"sk-top-container\"><div class=\"sk-text-repr-fallback\"><pre>RandomForestClassifier(random_state=42)</pre><b>In a Jupyter environment, please rerun this cell to show the HTML representation or trust the notebook. <br />On GitHub, the HTML representation is unable to render, please try loading this page with nbviewer.org.</b></div><div class=\"sk-container\" hidden><div class=\"sk-item\"><div class=\"sk-estimator sk-toggleable\"><input class=\"sk-toggleable__control sk-hidden--visually\" id=\"sk-estimator-id-3\" type=\"checkbox\" checked><label for=\"sk-estimator-id-3\" class=\"sk-toggleable__label sk-toggleable__label-arrow\">RandomForestClassifier</label><div class=\"sk-toggleable__content\"><pre>RandomForestClassifier(random_state=42)</pre></div></div></div></div></div>"
      ],
      "text/plain": [
       "RandomForestClassifier(random_state=42)"
      ]
     },
     "execution_count": 51,
     "metadata": {},
     "output_type": "execute_result"
    }
   ],
   "source": [
    "r_forest.fit(train_1, status_train)"
   ]
  },
  {
   "cell_type": "code",
   "execution_count": 52,
   "id": "559efb58",
   "metadata": {},
   "outputs": [
    {
     "name": "stdout",
     "output_type": "stream",
     "text": [
      "Accuracy: 0.9997\n",
      "Precision: 1.0000\n",
      "Recall: 0.9991\n",
      "F1 Score: 0.9995\n",
      "Confusion Matrix:\n",
      "[[2586    0]\n",
      " [   1 1102]]\n"
     ]
    }
   ],
   "source": [
    "r_f_predict = r_forest.predict(train_1)\n",
    "y_true = status_train['status']  # Example true labels\n",
    "y_pred = r_f_predict  # Example predicted labels\n",
    "\n",
    "# Accuracy\n",
    "accuracy_4 = accuracy_score(y_true, y_pred)\n",
    "print(f'Accuracy: {accuracy_4:.4f}')\n",
    "\n",
    "# Precision\n",
    "precision_4 = precision_score(y_true, y_pred)\n",
    "print(f'Precision: {precision_4:.4f}')\n",
    "\n",
    "# Recall\n",
    "recall_4 = recall_score(y_true, y_pred)\n",
    "print(f'Recall: {recall_4:.4f}')\n",
    "\n",
    "# F1 Score\n",
    "f1_4 = f1_score(y_true, y_pred)\n",
    "print(f'F1 Score: {f1_4:.4f}')\n",
    "\n",
    "# Confusion Matrix\n",
    "cm_4 = confusion_matrix(y_true, y_pred)\n",
    "print('Confusion Matrix:')\n",
    "print(cm_4)"
   ]
  },
  {
   "cell_type": "code",
   "execution_count": 53,
   "id": "5974502f",
   "metadata": {},
   "outputs": [
    {
     "name": "stdout",
     "output_type": "stream",
     "text": [
      "Accuracy: 0.8678\n",
      "Precision: 0.8276\n",
      "Recall: 0.7007\n",
      "F1 Score: 0.7589\n",
      "Confusion Matrix:\n",
      "[[609  40]\n",
      " [ 82 192]]\n"
     ]
    }
   ],
   "source": [
    "r_f_predict = r_forest.predict(test_1)\n",
    "y_true = status_test['status']  # Example true labels\n",
    "y_pred = r_f_predict  # Example predicted labels\n",
    "\n",
    "# Accuracy\n",
    "accuracy_rf = accuracy_score(y_true, y_pred)\n",
    "print(f'Accuracy: {accuracy_rf:.4f}')\n",
    "\n",
    "# Precision\n",
    "precision_rf = precision_score(y_true, y_pred)\n",
    "print(f'Precision: {precision_rf:.4f}')\n",
    "\n",
    "# Recall\n",
    "recall_rf = recall_score(y_true, y_pred)\n",
    "print(f'Recall: {recall_rf:.4f}')\n",
    "\n",
    "# F1 Score\n",
    "f1_rf = f1_score(y_true, y_pred)\n",
    "print(f'F1 Score: {f1_rf:.4f}')\n",
    "\n",
    "# Confusion Matrix\n",
    "cm_rf = confusion_matrix(y_true, y_pred)\n",
    "print('Confusion Matrix:')\n",
    "print(cm_rf)"
   ]
  },
  {
   "cell_type": "code",
   "execution_count": 54,
   "id": "6089ac28",
   "metadata": {},
   "outputs": [
    {
     "name": "stderr",
     "output_type": "stream",
     "text": [
      "c:\\Users\\19738\\AppData\\Local\\Programs\\Python\\Python311\\Lib\\site-packages\\sklearn\\base.py:1151: DataConversionWarning: A column-vector y was passed when a 1d array was expected. Please change the shape of y to (n_samples,), for example using ravel().\n",
      "  return fit_method(estimator, *args, **kwargs)\n"
     ]
    },
    {
     "name": "stdout",
     "output_type": "stream",
     "text": [
      "Accuracy: 0.8711\n",
      "Precision: 0.8270\n",
      "Recall: 0.7153\n",
      "F1 Score: 0.7671\n",
      "Confusion Matrix:\n",
      "[[608  41]\n",
      " [ 78 196]]\n"
     ]
    }
   ],
   "source": [
    "r_forest_1000 = RandomForestClassifier(random_state=42, n_estimators= 125)\n",
    "r_forest_1000.fit(train_1, status_train)\n",
    "r_f_1000_pred = r_forest_1000.predict(test_1)\n",
    "\n",
    "y_true = status_test['status']  # Example true labels\n",
    "y_pred = r_f_1000_pred  # Example predicted labels\n",
    "\n",
    "# Accuracy\n",
    "accuracy_rf = accuracy_score(y_true, y_pred)\n",
    "print(f'Accuracy: {accuracy_rf:.4f}')\n",
    "\n",
    "# Precision\n",
    "precision_rf = precision_score(y_true, y_pred)\n",
    "print(f'Precision: {precision_rf:.4f}')\n",
    "\n",
    "# Recall\n",
    "recall_rf = recall_score(y_true, y_pred)\n",
    "print(f'Recall: {recall_rf:.4f}')\n",
    "\n",
    "# F1 Score\n",
    "f1_rf = f1_score(y_true, y_pred)\n",
    "print(f'F1 Score: {f1_rf:.4f}')\n",
    "\n",
    "# Confusion Matrix\n",
    "cm_rf = confusion_matrix(y_true, y_pred)\n",
    "print('Confusion Matrix:')\n",
    "print(cm_rf)"
   ]
  },
  {
   "cell_type": "markdown",
   "id": "11bc14ca",
   "metadata": {},
   "source": [
    "## Do we need to prune the tree?"
   ]
  },
  {
   "cell_type": "code",
   "execution_count": 55,
   "id": "65f89cc9",
   "metadata": {},
   "outputs": [
    {
     "name": "stderr",
     "output_type": "stream",
     "text": [
      "c:\\Users\\19738\\AppData\\Local\\Programs\\Python\\Python311\\Lib\\site-packages\\sklearn\\base.py:1151: DataConversionWarning: A column-vector y was passed when a 1d array was expected. Please change the shape of y to (n_samples,), for example using ravel().\n",
      "  return fit_method(estimator, *args, **kwargs)\n"
     ]
    },
    {
     "name": "stdout",
     "output_type": "stream",
     "text": [
      "Accuracy: 0.8776\n",
      "Precision: 0.8397\n",
      "Recall: 0.7263\n",
      "F1 Score: 0.7789\n",
      "Confusion Matrix:\n",
      "[[611  38]\n",
      " [ 75 199]]\n"
     ]
    }
   ],
   "source": [
    "r_forest_1 = RandomForestClassifier(random_state=42, n_estimators= 125, min_samples_leaf=2, max_depth=15, min_impurity_decrease=.00001)\n",
    "r_forest_1.fit(train_1, status_train)\n",
    "r_f_1000_pred = r_forest_1.predict(test_1)\n",
    "\n",
    "y_true = status_test['status']  # Example true labels\n",
    "y_pred = r_f_1000_pred  # Example predicted labels\n",
    "\n",
    "# Accuracy\n",
    "accuracy_rf_1 = accuracy_score(y_true, y_pred)\n",
    "print(f'Accuracy: {accuracy_rf_1:.4f}')\n",
    "\n",
    "# Precision\n",
    "precision_rf_1 = precision_score(y_true, y_pred)\n",
    "print(f'Precision: {precision_rf_1:.4f}')\n",
    "\n",
    "# Recall\n",
    "recall_rf_1 = recall_score(y_true, y_pred)\n",
    "print(f'Recall: {recall_rf_1:.4f}')\n",
    "\n",
    "# F1 Score\n",
    "f1_rf_1 = f1_score(y_true, y_pred)\n",
    "print(f'F1 Score: {f1_rf_1:.4f}')\n",
    "\n",
    "# Confusion Matrix\n",
    "cm_rf_1 = confusion_matrix(y_true, y_pred)\n",
    "print('Confusion Matrix:')\n",
    "print(cm_rf_1)"
   ]
  },
  {
   "cell_type": "code",
   "execution_count": 56,
   "id": "d1f1a52f",
   "metadata": {},
   "outputs": [
    {
     "data": {
      "text/html": [
       "<div>\n",
       "<style scoped>\n",
       "    .dataframe tbody tr th:only-of-type {\n",
       "        vertical-align: middle;\n",
       "    }\n",
       "\n",
       "    .dataframe tbody tr th {\n",
       "        vertical-align: top;\n",
       "    }\n",
       "\n",
       "    .dataframe thead th {\n",
       "        text-align: right;\n",
       "    }\n",
       "</style>\n",
       "<table border=\"1\" class=\"dataframe\">\n",
       "  <thead>\n",
       "    <tr style=\"text-align: right;\">\n",
       "      <th></th>\n",
       "      <th>Accuracy</th>\n",
       "      <th>Precision</th>\n",
       "      <th>Recall</th>\n",
       "      <th>F1 Score</th>\n",
       "      <th>Confusion Matrix</th>\n",
       "    </tr>\n",
       "  </thead>\n",
       "  <tbody>\n",
       "    <tr>\n",
       "      <th>normal tree</th>\n",
       "      <td>0.827736</td>\n",
       "      <td>0.720307</td>\n",
       "      <td>0.686131</td>\n",
       "      <td>0.702804</td>\n",
       "      <td>[[576, 73], [86, 188]]</td>\n",
       "    </tr>\n",
       "    <tr>\n",
       "      <th>min impurity</th>\n",
       "      <td>0.868906</td>\n",
       "      <td>0.809717</td>\n",
       "      <td>0.729927</td>\n",
       "      <td>0.767754</td>\n",
       "      <td>[[602, 47], [74, 200]]</td>\n",
       "    </tr>\n",
       "    <tr>\n",
       "      <th>max depth</th>\n",
       "      <td>0.832069</td>\n",
       "      <td>0.72119</td>\n",
       "      <td>0.708029</td>\n",
       "      <td>0.714549</td>\n",
       "      <td>[[574, 75], [80, 194]]</td>\n",
       "    </tr>\n",
       "    <tr>\n",
       "      <th>min leaf</th>\n",
       "      <td>0.851571</td>\n",
       "      <td>0.801762</td>\n",
       "      <td>0.664234</td>\n",
       "      <td>0.726547</td>\n",
       "      <td>[[604, 45], [92, 182]]</td>\n",
       "    </tr>\n",
       "    <tr>\n",
       "      <th>cc_alpha</th>\n",
       "      <td>0.867822</td>\n",
       "      <td>0.819328</td>\n",
       "      <td>0.711679</td>\n",
       "      <td>0.761719</td>\n",
       "      <td>[[606, 43], [79, 195]]</td>\n",
       "    </tr>\n",
       "    <tr>\n",
       "      <th>random forest</th>\n",
       "      <td>0.871073</td>\n",
       "      <td>0.827004</td>\n",
       "      <td>0.715328</td>\n",
       "      <td>0.767123</td>\n",
       "      <td>[[608, 41], [78, 196]]</td>\n",
       "    </tr>\n",
       "    <tr>\n",
       "      <th>random forest pruned</th>\n",
       "      <td>0.877573</td>\n",
       "      <td>0.839662</td>\n",
       "      <td>0.726277</td>\n",
       "      <td>0.778865</td>\n",
       "      <td>[[611, 38], [75, 199]]</td>\n",
       "    </tr>\n",
       "  </tbody>\n",
       "</table>\n",
       "</div>"
      ],
      "text/plain": [
       "                      Accuracy Precision    Recall  F1 Score  \\\n",
       "normal tree           0.827736  0.720307  0.686131  0.702804   \n",
       "min impurity          0.868906  0.809717  0.729927  0.767754   \n",
       "max depth             0.832069   0.72119  0.708029  0.714549   \n",
       "min leaf              0.851571  0.801762  0.664234  0.726547   \n",
       "cc_alpha              0.867822  0.819328  0.711679  0.761719   \n",
       "random forest         0.871073  0.827004  0.715328  0.767123   \n",
       "random forest pruned  0.877573  0.839662  0.726277  0.778865   \n",
       "\n",
       "                            Confusion Matrix  \n",
       "normal tree           [[576, 73], [86, 188]]  \n",
       "min impurity          [[602, 47], [74, 200]]  \n",
       "max depth             [[574, 75], [80, 194]]  \n",
       "min leaf              [[604, 45], [92, 182]]  \n",
       "cc_alpha              [[606, 43], [79, 195]]  \n",
       "random forest         [[608, 41], [78, 196]]  \n",
       "random forest pruned  [[611, 38], [75, 199]]  "
      ]
     },
     "execution_count": 56,
     "metadata": {},
     "output_type": "execute_result"
    }
   ],
   "source": [
    "data1 = [accuracy_rf, precision_rf, recall_rf,f1_rf, cm_rf]\n",
    "data2 = [accuracy_rf_1, precision_rf_1, recall_rf_1, f1_rf_1, cm_rf_1]\n",
    "\n",
    "results['random forest'] = data1\n",
    "results['random forest pruned'] = data2\n",
    "results.T"
   ]
  },
  {
   "cell_type": "code",
   "execution_count": 57,
   "id": "5f8fdff1",
   "metadata": {},
   "outputs": [],
   "source": [
    "feature_importance_rf = r_forest_1.feature_importances_\n",
    "feat_imp_rf = pd.DataFrame({'Feature': column_names, 'Feature Importance' : feature_importance_rf})\n",
    "sorted = feat_imp_rf.sort_values(by = 'Feature Importance', ascending= False)\n",
    "styled_df_rf = sorted.style.applymap(highlight_significant, subset=['Feature Importance'])"
   ]
  },
  {
   "cell_type": "code",
   "execution_count": 58,
   "id": "53dbb2cf",
   "metadata": {},
   "outputs": [
    {
     "data": {
      "text/html": [
       "<style type=\"text/css\">\n",
       "#T_95027_row0_col1, #T_95027_row1_col1, #T_95027_row2_col1, #T_95027_row3_col1, #T_95027_row4_col1, #T_95027_row5_col1, #T_95027_row6_col1, #T_95027_row7_col1 {\n",
       "  background-color: blue;\n",
       "}\n",
       "#T_95027_row8_col1, #T_95027_row9_col1, #T_95027_row10_col1, #T_95027_row11_col1, #T_95027_row12_col1, #T_95027_row13_col1, #T_95027_row14_col1, #T_95027_row15_col1, #T_95027_row16_col1, #T_95027_row17_col1, #T_95027_row18_col1, #T_95027_row19_col1, #T_95027_row20_col1, #T_95027_row21_col1, #T_95027_row22_col1, #T_95027_row23_col1, #T_95027_row24_col1 {\n",
       "  background-color: ;\n",
       "}\n",
       "</style>\n",
       "<table id=\"T_95027\">\n",
       "  <thead>\n",
       "    <tr>\n",
       "      <th class=\"blank level0\" >&nbsp;</th>\n",
       "      <th id=\"T_95027_level0_col0\" class=\"col_heading level0 col0\" >Feature</th>\n",
       "      <th id=\"T_95027_level0_col1\" class=\"col_heading level0 col1\" >Feature Importance</th>\n",
       "    </tr>\n",
       "  </thead>\n",
       "  <tbody>\n",
       "    <tr>\n",
       "      <th id=\"T_95027_level0_row0\" class=\"row_heading level0 row0\" >2</th>\n",
       "      <td id=\"T_95027_row0_col0\" class=\"data row0 col0\" >time_spent_on_website</td>\n",
       "      <td id=\"T_95027_row0_col1\" class=\"data row0 col1\" >0.260484</td>\n",
       "    </tr>\n",
       "    <tr>\n",
       "      <th id=\"T_95027_level0_row1\" class=\"row_heading level0 row1\" >7</th>\n",
       "      <td id=\"T_95027_row1_col0\" class=\"data row1 col0\" >first_interaction_Mobile App</td>\n",
       "      <td id=\"T_95027_row1_col1\" class=\"data row1 col1\" >0.120354</td>\n",
       "    </tr>\n",
       "    <tr>\n",
       "      <th id=\"T_95027_level0_row2\" class=\"row_heading level0 row2\" >8</th>\n",
       "      <td id=\"T_95027_row2_col0\" class=\"data row2 col0\" >first_interaction_Website</td>\n",
       "      <td id=\"T_95027_row2_col1\" class=\"data row2 col1\" >0.113953</td>\n",
       "    </tr>\n",
       "    <tr>\n",
       "      <th id=\"T_95027_level0_row3\" class=\"row_heading level0 row3\" >0</th>\n",
       "      <td id=\"T_95027_row3_col0\" class=\"data row3 col0\" >age</td>\n",
       "      <td id=\"T_95027_row3_col1\" class=\"data row3 col1\" >0.074791</td>\n",
       "    </tr>\n",
       "    <tr>\n",
       "      <th id=\"T_95027_level0_row4\" class=\"row_heading level0 row4\" >3</th>\n",
       "      <td id=\"T_95027_row4_col0\" class=\"data row4 col0\" >page_views_per_visit</td>\n",
       "      <td id=\"T_95027_row4_col1\" class=\"data row4 col1\" >0.074359</td>\n",
       "    </tr>\n",
       "    <tr>\n",
       "      <th id=\"T_95027_level0_row5\" class=\"row_heading level0 row5\" >9</th>\n",
       "      <td id=\"T_95027_row5_col0\" class=\"data row5 col0\" >profile_completed_High</td>\n",
       "      <td id=\"T_95027_row5_col1\" class=\"data row5 col1\" >0.064267</td>\n",
       "    </tr>\n",
       "    <tr>\n",
       "      <th id=\"T_95027_level0_row6\" class=\"row_heading level0 row6\" >11</th>\n",
       "      <td id=\"T_95027_row6_col0\" class=\"data row6 col0\" >profile_completed_Medium</td>\n",
       "      <td id=\"T_95027_row6_col1\" class=\"data row6 col1\" >0.055387</td>\n",
       "    </tr>\n",
       "    <tr>\n",
       "      <th id=\"T_95027_level0_row7\" class=\"row_heading level0 row7\" >1</th>\n",
       "      <td id=\"T_95027_row7_col0\" class=\"data row7 col0\" >website_visits</td>\n",
       "      <td id=\"T_95027_row7_col1\" class=\"data row7 col1\" >0.041752</td>\n",
       "    </tr>\n",
       "    <tr>\n",
       "      <th id=\"T_95027_level0_row8\" class=\"row_heading level0 row8\" >4</th>\n",
       "      <td id=\"T_95027_row8_col0\" class=\"data row8 col0\" >current_occupation_Professional</td>\n",
       "      <td id=\"T_95027_row8_col1\" class=\"data row8 col1\" >0.036194</td>\n",
       "    </tr>\n",
       "    <tr>\n",
       "      <th id=\"T_95027_level0_row9\" class=\"row_heading level0 row9\" >13</th>\n",
       "      <td id=\"T_95027_row9_col0\" class=\"data row9 col0\" >last_activity_Phone Activity</td>\n",
       "      <td id=\"T_95027_row9_col1\" class=\"data row9 col1\" >0.031911</td>\n",
       "    </tr>\n",
       "    <tr>\n",
       "      <th id=\"T_95027_level0_row10\" class=\"row_heading level0 row10\" >14</th>\n",
       "      <td id=\"T_95027_row10_col0\" class=\"data row10 col0\" >last_activity_Website Activity</td>\n",
       "      <td id=\"T_95027_row10_col1\" class=\"data row10 col1\" >0.020265</td>\n",
       "    </tr>\n",
       "    <tr>\n",
       "      <th id=\"T_95027_level0_row11\" class=\"row_heading level0 row11\" >6</th>\n",
       "      <td id=\"T_95027_row11_col0\" class=\"data row11 col0\" >current_occupation_Unemployed</td>\n",
       "      <td id=\"T_95027_row11_col1\" class=\"data row11 col1\" >0.017870</td>\n",
       "    </tr>\n",
       "    <tr>\n",
       "      <th id=\"T_95027_level0_row12\" class=\"row_heading level0 row12\" >12</th>\n",
       "      <td id=\"T_95027_row12_col0\" class=\"data row12 col0\" >last_activity_Email Activity</td>\n",
       "      <td id=\"T_95027_row12_col1\" class=\"data row12 col1\" >0.016751</td>\n",
       "    </tr>\n",
       "    <tr>\n",
       "      <th id=\"T_95027_level0_row13\" class=\"row_heading level0 row13\" >5</th>\n",
       "      <td id=\"T_95027_row13_col0\" class=\"data row13 col0\" >current_occupation_Student</td>\n",
       "      <td id=\"T_95027_row13_col1\" class=\"data row13 col1\" >0.016121</td>\n",
       "    </tr>\n",
       "    <tr>\n",
       "      <th id=\"T_95027_level0_row14\" class=\"row_heading level0 row14\" >10</th>\n",
       "      <td id=\"T_95027_row14_col0\" class=\"data row14 col0\" >profile_completed_Low</td>\n",
       "      <td id=\"T_95027_row14_col1\" class=\"data row14 col1\" >0.007862</td>\n",
       "    </tr>\n",
       "    <tr>\n",
       "      <th id=\"T_95027_level0_row15\" class=\"row_heading level0 row15\" >23</th>\n",
       "      <td id=\"T_95027_row15_col0\" class=\"data row15 col0\" >referral_No</td>\n",
       "      <td id=\"T_95027_row15_col1\" class=\"data row15 col1\" >0.006073</td>\n",
       "    </tr>\n",
       "    <tr>\n",
       "      <th id=\"T_95027_level0_row16\" class=\"row_heading level0 row16\" >21</th>\n",
       "      <td id=\"T_95027_row16_col0\" class=\"data row16 col0\" >educational_channels_No</td>\n",
       "      <td id=\"T_95027_row16_col1\" class=\"data row16 col1\" >0.005662</td>\n",
       "    </tr>\n",
       "    <tr>\n",
       "      <th id=\"T_95027_level0_row17\" class=\"row_heading level0 row17\" >24</th>\n",
       "      <td id=\"T_95027_row17_col0\" class=\"data row17 col0\" >referral_Yes</td>\n",
       "      <td id=\"T_95027_row17_col1\" class=\"data row17 col1\" >0.005462</td>\n",
       "    </tr>\n",
       "    <tr>\n",
       "      <th id=\"T_95027_level0_row18\" class=\"row_heading level0 row18\" >22</th>\n",
       "      <td id=\"T_95027_row18_col0\" class=\"data row18 col0\" >educational_channels_Yes</td>\n",
       "      <td id=\"T_95027_row18_col1\" class=\"data row18 col1\" >0.005441</td>\n",
       "    </tr>\n",
       "    <tr>\n",
       "      <th id=\"T_95027_level0_row19\" class=\"row_heading level0 row19\" >19</th>\n",
       "      <td id=\"T_95027_row19_col0\" class=\"data row19 col0\" >digital_media_No</td>\n",
       "      <td id=\"T_95027_row19_col1\" class=\"data row19 col1\" >0.005126</td>\n",
       "    </tr>\n",
       "    <tr>\n",
       "      <th id=\"T_95027_level0_row20\" class=\"row_heading level0 row20\" >20</th>\n",
       "      <td id=\"T_95027_row20_col0\" class=\"data row20 col0\" >digital_media_Yes</td>\n",
       "      <td id=\"T_95027_row20_col1\" class=\"data row20 col1\" >0.004495</td>\n",
       "    </tr>\n",
       "    <tr>\n",
       "      <th id=\"T_95027_level0_row21\" class=\"row_heading level0 row21\" >15</th>\n",
       "      <td id=\"T_95027_row21_col0\" class=\"data row21 col0\" >newspaper_No</td>\n",
       "      <td id=\"T_95027_row21_col1\" class=\"data row21 col1\" >0.004436</td>\n",
       "    </tr>\n",
       "    <tr>\n",
       "      <th id=\"T_95027_level0_row22\" class=\"row_heading level0 row22\" >16</th>\n",
       "      <td id=\"T_95027_row22_col0\" class=\"data row22 col0\" >newspaper_Yes</td>\n",
       "      <td id=\"T_95027_row22_col1\" class=\"data row22 col1\" >0.004185</td>\n",
       "    </tr>\n",
       "    <tr>\n",
       "      <th id=\"T_95027_level0_row23\" class=\"row_heading level0 row23\" >17</th>\n",
       "      <td id=\"T_95027_row23_col0\" class=\"data row23 col0\" >magazine_No</td>\n",
       "      <td id=\"T_95027_row23_col1\" class=\"data row23 col1\" >0.003503</td>\n",
       "    </tr>\n",
       "    <tr>\n",
       "      <th id=\"T_95027_level0_row24\" class=\"row_heading level0 row24\" >18</th>\n",
       "      <td id=\"T_95027_row24_col0\" class=\"data row24 col0\" >magazine_Yes</td>\n",
       "      <td id=\"T_95027_row24_col1\" class=\"data row24 col1\" >0.003299</td>\n",
       "    </tr>\n",
       "  </tbody>\n",
       "</table>\n"
      ],
      "text/plain": [
       "<pandas.io.formats.style.Styler at 0x1dc20076650>"
      ]
     },
     "execution_count": 58,
     "metadata": {},
     "output_type": "execute_result"
    }
   ],
   "source": [
    "styled_df_rf"
   ]
  },
  {
   "cell_type": "markdown",
   "id": "ff5d70a3",
   "metadata": {},
   "source": [
    "## The top contributors to leads based on random forest are:\n",
    "\n",
    "1. Time spent on website\n",
    "2. First interaction mobile app\n",
    "3. First interaction website\n",
    "4. Age (30 - 65 yrs)\n",
    "5. Page views\n",
    "6. Fully completed profile (High)\n",
    "7. Partially completed profile (Medium)\n",
    "8. Website visits\n"
   ]
  },
  {
   "cell_type": "markdown",
   "id": "bb4ab3ea",
   "metadata": {},
   "source": [
    "## The top contributors to leads based on decision tree are:\n",
    "\n",
    "1. Time spent on website\n",
    "2. First interaction with website\n",
    "3. Fully completed profile\n",
    "4. Professional Occupation\n",
    "5. Last phone activity\n",
    "6. Age (30 - 65 yrs)"
   ]
  },
  {
   "cell_type": "markdown",
   "id": "nasty-retailer",
   "metadata": {
    "id": "nasty-retailer"
   },
   "source": [
    "## Actionable Insights and Recommendations"
   ]
  },
  {
   "cell_type": "markdown",
   "id": "amino-prediction",
   "metadata": {
    "id": "amino-prediction"
   },
   "source": [
    "1. The website is a very useful in obtaining new leads. \n",
    "- Promote leads to spend more time on the website. This can be done through first advertising the website more. For advertisement on social media such as Facebook, instagram, or Youtube promote the website instead of other sources of print media.\n",
    "- Improve the quality of the website, this can be down with more efficient layout of the website which promotes users to examine and explore different options more. \n",
    "2. Target the middle aged demographic (ages 30 - 65), these profiles seem to convert more perhaps because of their stage in life.\n",
    "3. Target people that have jobs or are unemployed, students seem to have less tendency to join.\n",
    "4. Target people who have completed their profile.\n",
    "5. Lastly reach out to the person through phone call. \n",
    "\n",
    "Use additional resources to call the people that fall into the category above. "
   ]
  }
 ],
 "metadata": {
  "colab": {
   "collapsed_sections": [],
   "name": "ExtraaLearn_Project_Template_Notebook.ipynb",
   "provenance": []
  },
  "kernelspec": {
   "display_name": "Python 3 (ipykernel)",
   "language": "python",
   "name": "python3"
  },
  "language_info": {
   "codemirror_mode": {
    "name": "ipython",
    "version": 3
   },
   "file_extension": ".py",
   "mimetype": "text/x-python",
   "name": "python",
   "nbconvert_exporter": "python",
   "pygments_lexer": "ipython3",
   "version": "3.11.4"
  }
 },
 "nbformat": 4,
 "nbformat_minor": 5
}
